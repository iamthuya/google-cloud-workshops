{
 "cells": [
  {
   "cell_type": "code",
   "execution_count": null,
   "id": "EZsNdGXULVe3LnjTQwaZbotH",
   "metadata": {
    "executionInfo": {
     "elapsed": 2510,
     "status": "ok",
     "timestamp": 1732278554881,
     "user": {
      "displayName": "",
      "userId": ""
     },
     "user_tz": -480
    },
    "id": "EZsNdGXULVe3LnjTQwaZbotH",
    "tags": []
   },
   "outputs": [],
   "source": [
    "# Copyright 2024 Google LLC\n",
    "#\n",
    "# Licensed under the Apache License, Version 2.0 (the \"License\");\n",
    "# you may not use this file except in compliance with the License.\n",
    "# You may obtain a copy of the License at\n",
    "#\n",
    "#     https://www.apache.org/licenses/LICENSE-2.0\n",
    "#\n",
    "# Unless required by applicable law or agreed to in writing, software\n",
    "# distributed under the License is distributed on an \"AS IS\" BASIS,\n",
    "# WITHOUT WARRANTIES OR CONDITIONS OF ANY KIND, either express or implied.\n",
    "# See the License for the specific language governing permissions and\n",
    "# limitations under the License."
   ]
  },
  {
   "cell_type": "markdown",
   "id": "ZqLHpMl1MOXg",
   "metadata": {
    "id": "ZqLHpMl1MOXg"
   },
   "source": [
    "# Building Agents with Gemini and CrewAI\n",
    "\n",
    "<table align=\"left\">\n",
    "  <td style=\"text-align: center\">\n",
    "    <a href=\"https://colab.research.google.com/github/iamthuya/google-cloud-workshops/blob/main/ai-agents/gemini/building_agents_with_crewai.ipynb\">\n",
    "      <img src=\"https://cloud.google.com/ml-engine/images/colab-logo-32px.png\" alt=\"Google Colaboratory logo\"><br> Run in Colab\n",
    "    </a>\n",
    "  </td>\n",
    "  <td style=\"text-align: center\">\n",
    "    <a href=\"https://console.cloud.google.com/vertex-ai/colab/import/https:%2F%2Fraw.githubusercontent.com%2Fiamthuya%2Fgoogle-cloud-workshops%2Fmain%2Fai-agents%2Fgemini%2Fbuilding_agents_with_crewai.ipynb\">\n",
    "      <img width=\"32px\" src=\"https://lh3.googleusercontent.com/JmcxdQi-qOpctIvWKgPtrzZdJJK-J3sWE1RsfjZNwshCFgE_9fULcNpuXYTilIR2hjwN\" alt=\"Google Cloud Colab Enterprise logo\"><br> Run in Colab Enterprise\n",
    "    </a>\n",
    "  </td>      \n",
    "  <td style=\"text-align: center\">\n",
    "    <a href=\"https://github.com/iamthuya/google-cloud-workshops/blob/main/ai-agents/gemini/building_agents_with_crewai.ipynb\">\n",
    "      <img src=\"https://cloud.google.com/ml-engine/images/github-logo-32px.png\" alt=\"GitHub logo\"><br> View on GitHub\n",
    "    </a>\n",
    "  </td>\n",
    "  <td style=\"text-align: center\">\n",
    "    <a href=\"https://console.cloud.google.com/vertex-ai/workbench/deploy-notebook?download_url=https://raw.githubusercontent.com/iamthuya/google-cloud-workshops/blob/main/ai-agents/gemini/building_agents_with_crewai.ipynb\">\n",
    "      <img src=\"https://lh3.googleusercontent.com/UiNooY4LUgW_oTvpsNhPpQzsstV5W8F7rYgxgGBD85cWJoLmrOzhVs_ksK_vgx40SHs7jCqkTkCk=e14-rj-sc0xffffff-h130-w32\" alt=\"Vertex AI logo\"><br> Open in Vertex AI Workbench\n",
    "    </a>\n",
    "  </td>\n",
    "</table>"
   ]
  },
  {
   "cell_type": "markdown",
   "id": "tcb6_bFE4kr9",
   "metadata": {
    "id": "tcb6_bFE4kr9"
   },
   "source": [
    "| | |\n",
    "|-|-|\n",
    "|Author(s) | [Thu Ya Kyaw](https://github.com/iamthuya) |"
   ]
  },
  {
   "cell_type": "markdown",
   "id": "7629e425-8d1b-4854-813f-21b36748b3e6",
   "metadata": {},
   "source": [
    "## Disclaimer: The CrewAI portion of this notebook is adapted from the [Multi AI Agent Systems with CrewAI course](https://www.deeplearning.ai/short-courses/multi-ai-agent-systems-with-crewai)"
   ]
  },
  {
   "cell_type": "markdown",
   "id": "DD39LxKq4MsD",
   "metadata": {
    "id": "DD39LxKq4MsD"
   },
   "source": [
    "### Install Vertex AI SDK for Python\n",
    "\n",
    "Here you will install required packages for this lab."
   ]
  },
  {
   "cell_type": "code",
   "execution_count": null,
   "id": "b4cUyTwE17VJ",
   "metadata": {
    "executionInfo": {
     "elapsed": 5003,
     "status": "ok",
     "timestamp": 1732295478132,
     "user": {
      "displayName": "",
      "userId": ""
     },
     "user_tz": -480
    },
    "id": "b4cUyTwE17VJ",
    "tags": []
   },
   "outputs": [],
   "source": [
    "! pip install --upgrade --quiet --user google-cloud-aiplatform langchain_google_vertexai crewai"
   ]
  },
  {
   "cell_type": "markdown",
   "id": "47U_n5Y145JE",
   "metadata": {
    "id": "47U_n5Y145JE"
   },
   "source": [
    "### Restart current runtime\n",
    "\n",
    "To use the newly installed packages in this Jupyter runtime, you must restart the runtime. You can do this by running the cell below, which will restart the current kernel.\n",
    "\n",
    "Don't worry if you see a notification message like `Your session crashed for an unknown reason.` This is expected as you are shutting down the kernel from the same instance using code.\n"
   ]
  },
  {
   "cell_type": "code",
   "execution_count": null,
   "id": "R2Rzk6mnRh7y",
   "metadata": {
    "colab": {
     "base_uri": "https://localhost:8080/"
    },
    "executionInfo": {
     "elapsed": 3,
     "status": "ok",
     "timestamp": 1732296065005,
     "user": {
      "displayName": "",
      "userId": ""
     },
     "user_tz": -480
    },
    "id": "R2Rzk6mnRh7y",
    "outputId": "d15061f5-50a1-47dc-cbe1-587fe481b448",
    "tags": []
   },
   "outputs": [],
   "source": [
    "import IPython\n",
    "\n",
    "app = IPython.Application.instance()\n",
    "app.kernel.do_shutdown(True)"
   ]
  },
  {
   "cell_type": "markdown",
   "id": "56a37e59-0baa-4574-8f0b-4d051e28a758",
   "metadata": {},
   "source": [
    "<div class=\"alert alert-block alert-warning\">\n",
    "<b>⚠️ The kernel is going to restart. Please wait until it is finished before continuing to the next step. ⚠️</b>\n",
    "</div>"
   ]
  },
  {
   "cell_type": "markdown",
   "id": "9cf774f7-726c-42f5-8865-eaf57c5187ed",
   "metadata": {},
   "source": [
    "### Authenticate your environment (Google Colab only)\n",
    "\n",
    "If you are running this notebook on Google Colab, uncomment and run the following cell to authenticate your environment. You **don't need to authenticate** if you are using Colab Enterprise."
   ]
  },
  {
   "cell_type": "code",
   "execution_count": null,
   "id": "f65e3331-70be-4c3c-8ef2-d7fe1c568985",
   "metadata": {},
   "outputs": [],
   "source": [
    "# from google.colab import auth\n",
    "\n",
    "# auth.authenticate_user()"
   ]
  },
  {
   "cell_type": "markdown",
   "id": "mkwAwoI66TtU",
   "metadata": {
    "id": "mkwAwoI66TtU"
   },
   "source": [
    "### Initialize Vertex AI SDK\n",
    "\n",
    "To get started using Vertex AI, you must have an existing Google Cloud project and [enable the Vertex AI API](https://console.cloud.google.com/flows/enableapi?apiid=aiplatform.googleapis.com).\n",
    "\n",
    "Learn more about [setting up a project and a development environment](https://cloud.google.com/vertex-ai/docs/start/cloud-environment)."
   ]
  },
  {
   "cell_type": "code",
   "execution_count": 1,
   "id": "CaD-TXsbURXz",
   "metadata": {
    "executionInfo": {
     "elapsed": 3,
     "status": "ok",
     "timestamp": 1732295527864,
     "user": {
      "displayName": "",
      "userId": ""
     },
     "user_tz": -480
    },
    "id": "CaD-TXsbURXz",
    "tags": []
   },
   "outputs": [],
   "source": [
    "import vertexai\n",
    "\n",
    "PROJECT_ID = \"thuya-playground\"  # @param {type:\"string\"}\n",
    "LOCATION = \"us-central1\"  # @param {type:\"string\"}\n",
    "\n",
    "assert PROJECT_ID != \"your-project-id\", \"Please input your project id\"\n",
    "assert LOCATION != \"your-location\", \"Please input your project location\"\n",
    "\n",
    "vertexai.init(project=PROJECT_ID, location=LOCATION)"
   ]
  },
  {
   "cell_type": "markdown",
   "id": "l52jZ40X6l10",
   "metadata": {
    "id": "l52jZ40X6l10"
   },
   "source": [
    "In the next cell, you will import the required modules from install packages."
   ]
  },
  {
   "cell_type": "code",
   "execution_count": 2,
   "id": "Lm7C6O5MUduM",
   "metadata": {
    "executionInfo": {
     "elapsed": 2,
     "status": "ok",
     "timestamp": 1732295527864,
     "user": {
      "displayName": "",
      "userId": ""
     },
     "user_tz": -480
    },
    "id": "Lm7C6O5MUduM",
    "tags": []
   },
   "outputs": [],
   "source": [
    "from IPython.display import Markdown\n",
    "\n",
    "from crewai import Agent, Task, Crew\n",
    "from langchain_google_vertexai import ChatVertexAI"
   ]
  },
  {
   "cell_type": "markdown",
   "id": "152nxTuB82Rx",
   "metadata": {
    "id": "152nxTuB82Rx"
   },
   "source": [
    "### Testing out Gemini model from LangChain\n",
    "\n",
    "In the following cell, you will try invoking Gemini model from LangChain library. It is slightly different from using it through Vertex AI SDK."
   ]
  },
  {
   "cell_type": "code",
   "execution_count": 3,
   "id": "e3d64dca-5449-443b-a8ef-e49d825985f1",
   "metadata": {
    "tags": []
   },
   "outputs": [
    {
     "data": {
      "text/markdown": [
       "Generative AI agents, which combine large language models (LLMs) with other AI capabilities to perform complex tasks autonomously, offer exciting possibilities but also present significant challenges. Here's a breakdown of their pros and cons:\n",
       "\n",
       "**Pros:**\n",
       "\n",
       "* **Automation of complex tasks:**  Agents can automate tasks that require multiple steps and diverse skills, including planning, execution, and adaptation. This can significantly increase efficiency and productivity in various domains.  Think automating customer service interactions, code generation and debugging, or even managing complex supply chains.\n",
       "* **Increased creativity and innovation:** By combining different AI models and accessing vast amounts of data, agents can generate novel ideas, designs, and solutions that humans might not conceive. This opens up new avenues for creativity in fields like art, design, and scientific research.\n",
       "* **Personalized experiences:** Agents can tailor their interactions and outputs to individual users, providing personalized recommendations, assistance, and learning experiences.  This is particularly relevant in areas like education, healthcare, and entertainment.\n",
       "* **Enhanced accessibility:** Agents can translate languages, provide summaries of complex information, and offer assistance to people with disabilities, making information and services more accessible to a wider audience.\n",
       "* **Improved decision-making:** By analyzing large datasets and considering multiple factors, agents can aid in making more informed and data-driven decisions across various industries.\n",
       "* **24/7 availability:** Unlike human agents, AI agents can operate continuously, providing uninterrupted service and support.\n",
       "* **Cost reduction:**  While initial development can be expensive, in the long run, automated tasks can lead to reduced labor costs and increased efficiency.\n",
       "\n",
       "\n",
       "**Cons:**\n",
       "\n",
       "* **Bias and fairness:**  Agents are trained on data, and if that data reflects existing societal biases, the agents will likely perpetuate and even amplify those biases in their outputs. This can lead to unfair or discriminatory outcomes.\n",
       "* **Lack of explainability and transparency:** The decision-making processes of complex agents can be opaque, making it difficult to understand why an agent made a particular decision. This lack of transparency can hinder trust and accountability.\n",
       "* **Safety and security risks:** Malicious actors could potentially exploit vulnerabilities in agents to cause harm, spread misinformation, or engage in other harmful activities.  The potential for misuse is a major concern.\n",
       "* **Job displacement:** The automation capabilities of agents could lead to job displacement in certain sectors, requiring workforce retraining and adaptation.\n",
       "* **High development costs:**  Building and deploying sophisticated generative AI agents requires significant expertise, resources, and infrastructure.\n",
       "* **Data dependency:** The performance of agents is heavily reliant on the quality and quantity of the data they are trained on.  Insufficient or biased data can severely limit their effectiveness.\n",
       "* **Ethical concerns:**  The use of agents raises ethical questions regarding privacy, autonomy, and responsibility.  Determining liability when an agent makes a mistake is a complex legal and ethical challenge.\n",
       "* **Hallucinations and inaccuracies:** LLMs, a core component of many agents, are prone to generating factually incorrect or nonsensical information, which can lead to errors and misleading outputs from the agent.\n",
       "\n",
       "\n",
       "In conclusion, generative AI agents offer immense potential benefits across diverse fields, but their development and deployment must be approached cautiously and responsibly. Addressing the ethical, safety, and societal challenges associated with these powerful technologies is crucial to ensure their beneficial and equitable use.\n"
      ],
      "text/plain": [
       "<IPython.core.display.Markdown object>"
      ]
     },
     "execution_count": 3,
     "metadata": {},
     "output_type": "execute_result"
    }
   ],
   "source": [
    "gemini_flash = ChatVertexAI(\n",
    "    model_name=\"gemini-1.5-flash-002\",\n",
    "    project_id=PROJECT_ID,\n",
    "    location=LOCATION\n",
    ")\n",
    "\n",
    "message = \"What are the pros and cons of Generative AI Agents?\"\n",
    "response = gemini_flash.invoke(message)\n",
    "\n",
    "Markdown(response.content)"
   ]
  },
  {
   "cell_type": "markdown",
   "id": "a2724cb8-8139-4c75-b510-badd6d8f6848",
   "metadata": {},
   "source": [
    "### Get Started\n",
    "\n",
    "If there are no errors, you have successfully invoked Gemini model from LangChain library. In the following section, you will be creating a crew of agents that can research, write, and edit about a given topic using CrewAI. You will be exploring about creating agents and their tasks, bundling agents into a crew, and running the end-to-end flow using the crew. "
   ]
  },
  {
   "cell_type": "markdown",
   "id": "b8307ec9-40f4-4622-ba6e-2730260201ea",
   "metadata": {},
   "source": [
    "### Creating Agents\n",
    "\n",
    "To define agents with CrewAI, you will need to provide them a role, goal and backstory. It also important to know that LLMs perform better when they are role playing."
   ]
  },
  {
   "cell_type": "markdown",
   "id": "7161655b-dd39-4a69-943b-f81fdef0798b",
   "metadata": {},
   "source": [
    "#### Agent: Planner"
   ]
  },
  {
   "cell_type": "code",
   "execution_count": 4,
   "id": "5f1b7232-1af5-4f2e-9e9a-8ee7bc7af501",
   "metadata": {
    "tags": []
   },
   "outputs": [],
   "source": [
    "planner = Agent(\n",
    "    role=\"Content Planner\",\n",
    "    goal=\"Plan engaging and factually accurate content on {topic}\",\n",
    "    backstory=\"You're working on planning a blog article \"\n",
    "              \"about the topic: {topic}.\"\n",
    "              \"You collect information that helps the \"\n",
    "              \"audience learn something \"\n",
    "              \"and make informed decisions. \"\n",
    "              \"Your work is the basis for \"\n",
    "              \"the Content Writer to write an article on this topic.\",\n",
    "    allow_delegation=False,\n",
    "    verbose=True,\n",
    "    llm=gemini_flash,\n",
    ")"
   ]
  },
  {
   "cell_type": "markdown",
   "id": "b39afdad-035e-4f5f-a4a1-99c5c69b899f",
   "metadata": {},
   "source": [
    "#### Agent: Writer"
   ]
  },
  {
   "cell_type": "code",
   "execution_count": 5,
   "id": "326c47e2-36ed-4d47-9f75-0358c95b6d08",
   "metadata": {
    "tags": []
   },
   "outputs": [],
   "source": [
    "writer = Agent(\n",
    "    role=\"Content Writer\",\n",
    "    goal=\"Write insightful and factually accurate \"\n",
    "         \"opinion piece about the topic: {topic}\",\n",
    "    backstory=\"You're working on a writing \"\n",
    "              \"a new opinion piece about the topic: {topic}. \"\n",
    "              \"You base your writing on the work of \"\n",
    "              \"the Content Planner, who provides an outline \"\n",
    "              \"and relevant context about the topic. \"\n",
    "              \"You follow the main objectives and \"\n",
    "              \"direction of the outline, \"\n",
    "              \"as provide by the Content Planner. \"\n",
    "              \"You also provide objective and impartial insights \"\n",
    "              \"and back them up with information \"\n",
    "              \"provide by the Content Planner. \"\n",
    "              \"You acknowledge in your opinion piece \"\n",
    "              \"when your statements are opinions \"\n",
    "              \"as opposed to objective statements.\",\n",
    "    allow_delegation=False,\n",
    "    verbose=True,\n",
    "    llm=gemini_flash\n",
    ")"
   ]
  },
  {
   "cell_type": "markdown",
   "id": "8ef72155-44fe-436d-a7da-fa195a8e0159",
   "metadata": {},
   "source": [
    "#### Agent: Editor"
   ]
  },
  {
   "cell_type": "code",
   "execution_count": 6,
   "id": "f557d4f0-418b-4036-bbb5-f71c8a981887",
   "metadata": {
    "tags": []
   },
   "outputs": [],
   "source": [
    "editor = Agent(\n",
    "    role=\"Editor\",\n",
    "    goal=\"Edit a given blog post to align with \"\n",
    "         \"the writing style of the organization. \",\n",
    "    backstory=\"You are an editor who receives a blog post \"\n",
    "              \"from the Content Writer. \"\n",
    "              \"Your goal is to review the blog post \"\n",
    "              \"to ensure that it follows journalistic best practices,\"\n",
    "              \"provides balanced viewpoints \"\n",
    "              \"when providing opinions or assertions, \"\n",
    "              \"and also avoids major controversial topics \"\n",
    "              \"or opinions when possible.\",\n",
    "    allow_delegation=False,\n",
    "    verbose=True,\n",
    "    llm=gemini_flash,\n",
    ")"
   ]
  },
  {
   "cell_type": "markdown",
   "id": "537d2a10-f32f-4dd5-a083-68d9677a6e9c",
   "metadata": {},
   "source": [
    "### Creating Tasks\n",
    "\n",
    "Here you will define your Tasks, and provide them a description, expected_output and agent."
   ]
  },
  {
   "cell_type": "markdown",
   "id": "6d370c6f-98ac-4827-b463-f0e4336bb8ff",
   "metadata": {},
   "source": [
    "#### Task: Plan"
   ]
  },
  {
   "cell_type": "code",
   "execution_count": 7,
   "id": "295b08b9-184a-4d71-8b50-e3c75b574088",
   "metadata": {
    "tags": []
   },
   "outputs": [],
   "source": [
    "plan = Task(\n",
    "    description=(\n",
    "        \"1. Prioritize the latest trends, key players, \"\n",
    "            \"and noteworthy news on {topic}.\\n\"\n",
    "        \"2. Identify the target audience, considering \"\n",
    "            \"their interests and pain points.\\n\"\n",
    "        \"3. Develop a detailed content outline including \"\n",
    "            \"an introduction, key points, and a call to action.\\n\"\n",
    "        \"4. Include SEO keywords and relevant data or sources.\"\n",
    "    ),\n",
    "    expected_output=\"A comprehensive content plan document \"\n",
    "        \"with an outline, audience analysis, \"\n",
    "        \"SEO keywords, and resources.\",\n",
    "    agent=planner,\n",
    ")"
   ]
  },
  {
   "cell_type": "markdown",
   "id": "6b87d179-3e24-4e8d-a573-a76e0b7f7151",
   "metadata": {},
   "source": [
    "#### Task: Write"
   ]
  },
  {
   "cell_type": "code",
   "execution_count": 8,
   "id": "81ee8919-4faf-446a-8645-b61e6f0b152c",
   "metadata": {
    "tags": []
   },
   "outputs": [],
   "source": [
    "write = Task(\n",
    "    description=(\n",
    "        \"1. Use the content plan to craft a compelling \"\n",
    "            \"blog post on {topic}.\\n\"\n",
    "        \"2. Incorporate SEO keywords naturally.\\n\"\n",
    "        \"3. Sections/Subtitles are properly named \"\n",
    "            \"in an engaging manner.\\n\"\n",
    "        \"4. Ensure the post is structured with an \"\n",
    "            \"engaging introduction, insightful body, \"\n",
    "            \"and a summarizing conclusion.\\n\"\n",
    "        \"5. Proofread for grammatical errors and \"\n",
    "            \"alignment with the brand's voice.\\n\"\n",
    "    ),\n",
    "    expected_output=\"A well-written blog post \"\n",
    "        \"in markdown format, ready for publication, \"\n",
    "        \"each section should have 2 or 3 paragraphs.\",\n",
    "    agent=writer,\n",
    ")"
   ]
  },
  {
   "cell_type": "markdown",
   "id": "a8a8a971-1aec-4e2d-9cc6-299b315586ac",
   "metadata": {},
   "source": [
    "#### Task: Edit"
   ]
  },
  {
   "cell_type": "code",
   "execution_count": 9,
   "id": "1e1e6cb6-ca00-421f-969f-87c780e675f0",
   "metadata": {
    "tags": []
   },
   "outputs": [],
   "source": [
    "edit = Task(\n",
    "    description=(\"Proofread the given blog post for \"\n",
    "                 \"grammatical errors and \"\n",
    "                 \"alignment with the brand's voice.\"),\n",
    "    expected_output=\"A well-written blog post in markdown format, \"\n",
    "                    \"ready for publication, \"\n",
    "                    \"each section should have 2 or 3 paragraphs.\",\n",
    "    agent=editor\n",
    ")"
   ]
  },
  {
   "cell_type": "markdown",
   "id": "18b52b97-184c-4a67-92ab-bf134d0244cc",
   "metadata": {},
   "source": [
    "### Creating the Crew\n",
    "\n",
    "In the next cell, you will be creating a crew of agents to perform the researching, writing, and editing tasks in sequential manner."
   ]
  },
  {
   "cell_type": "code",
   "execution_count": 10,
   "id": "3c194792-679d-40c7-a47e-37983882c4d6",
   "metadata": {
    "tags": []
   },
   "outputs": [],
   "source": [
    "crew = Crew(\n",
    "    agents=[planner, writer, editor],\n",
    "    tasks=[plan, write, edit],\n",
    "    manager_llm=gemini_flash,\n",
    "    verbose=True,\n",
    ")"
   ]
  },
  {
   "cell_type": "markdown",
   "id": "8d297194-6fe5-44b5-a2ae-5e9bc2a74b84",
   "metadata": {
    "tags": []
   },
   "source": [
    "### Starting the Crew\n",
    "\n",
    "Now you have everything you need to start the workflow. Run the following cell to kickoff the job!"
   ]
  },
  {
   "cell_type": "code",
   "execution_count": 12,
   "id": "8188b27b-eada-4a6b-afe6-a588f9e3b205",
   "metadata": {
    "tags": []
   },
   "outputs": [
    {
     "name": "stdout",
     "output_type": "stream",
     "text": [
      "\u001b[1m\u001b[95m# Agent:\u001b[00m \u001b[1m\u001b[92mContent Planner\u001b[00m\n",
      "\u001b[95m## Task:\u001b[00m \u001b[92m1. Prioritize the latest trends, key players, and noteworthy news on Artificial Intelligence.\n",
      "2. Identify the target audience, considering their interests and pain points.\n",
      "3. Develop a detailed content outline including an introduction, key points, and a call to action.\n",
      "4. Include SEO keywords and relevant data or sources.\u001b[00m\n",
      "\n",
      "\n",
      "\u001b[1m\u001b[95m# Agent:\u001b[00m \u001b[1m\u001b[92mContent Planner\u001b[00m\n",
      "\u001b[95m## Final Answer:\u001b[00m \u001b[92m\n",
      "**Content Plan: Understanding the Impact of Artificial Intelligence**\n",
      "\n",
      "**1. Prioritized Trends, Key Players, and News:**\n",
      "\n",
      "* **Trends:** Generative AI (e.g., DALL-E 2, Midjourney, Stable Diffusion, ChatGPT), AI-driven drug discovery, advancements in AI ethics and explainability, the rise of edge AI, and the increasing use of AI in cybersecurity.\n",
      "* **Key Players:** OpenAI, Google (DeepMind), Microsoft, Amazon (AWS), Meta, Nvidia, IBM, and various startups specializing in specific AI applications.  Noteworthy emerging players should be researched closer to publication date to reflect current innovation.\n",
      "* **News:**  Recent breakthroughs in large language models, significant funding rounds for AI startups, new regulations regarding AI ethics and data privacy (e.g., EU's AI Act), and major AI-related partnerships or acquisitions.  (This section requires updating very close to publication for timeliness.)\n",
      "\n",
      "\n",
      "**2. Target Audience Analysis:**\n",
      "\n",
      "* **Primary Audience:** Tech-savvy individuals, business professionals (especially in tech, healthcare, finance), data scientists, students interested in AI, and policymakers concerned with AI's societal impact.\n",
      "* **Secondary Audience:**  A broader audience with a general interest in technology and its future implications.\n",
      "* **Interests:**  The latest AI advancements, real-world applications of AI, ethical considerations surrounding AI, the potential impact of AI on jobs and society, and accessible explanations of complex AI concepts.\n",
      "* **Pain Points:** Difficulty understanding complex AI jargon, lack of clear information about AI's real-world impact, concerns about job displacement due to automation, worries about AI bias and ethical implications.\n",
      "\n",
      "\n",
      "**3. Detailed Content Outline:**\n",
      "\n",
      "**I. Introduction (approx. 150 words)**\n",
      "\n",
      "* Hook: Start with a captivating example of AI in action (e.g., a recent achievement in generative AI or a successful AI application in healthcare).\n",
      "* Briefly define Artificial Intelligence and its key branches (machine learning, deep learning, natural language processing).\n",
      "* Briefly introduce the scope of the article – covering trends, key players, and ethical considerations.\n",
      "* Thesis statement: AI is rapidly transforming various aspects of our lives, presenting both exciting opportunities and significant challenges.\n",
      "\n",
      "\n",
      "**II. Key Trends Shaping the Future of AI (approx. 300 words)**\n",
      "\n",
      "* **Generative AI:** Discuss the capabilities and limitations of generative AI models, focusing on practical applications (e.g., content creation, design, drug discovery). Mention key players like OpenAI and Stability AI.\n",
      "* **AI in Specific Industries:** Highlight the transformative impact of AI in healthcare (diagnostics, drug development), finance (fraud detection, algorithmic trading), and cybersecurity (threat detection, incident response). Include statistics and examples to support claims.\n",
      "* **Edge AI:** Explain the concept of edge AI and its benefits (reduced latency, increased privacy, improved efficiency). Discuss real-world applications in IoT devices and autonomous systems.\n",
      "* **AI Ethics and Explainability:** Address the growing importance of ethical AI development and the need for transparent, explainable AI systems. Discuss bias mitigation techniques and regulatory efforts.\n",
      "\n",
      "\n",
      "**III. Key Players and Their Impact (approx. 200 words)**\n",
      "\n",
      "* Briefly profile major players (OpenAI, Google DeepMind, Microsoft, Amazon, etc.), highlighting their contributions to AI research and development.\n",
      "* Discuss notable partnerships and acquisitions in the AI space.\n",
      "* Mention the role of open-source initiatives in driving AI innovation.\n",
      "\n",
      "\n",
      "**IV.  The Future of AI: Opportunities and Challenges (approx. 250 words)**\n",
      "\n",
      "* Discuss the potential benefits of AI (increased productivity, improved healthcare, automation of tedious tasks).\n",
      "* Address the potential risks of AI (job displacement, algorithmic bias, misuse of AI technology).\n",
      "* Explore the role of regulation and ethical guidelines in shaping the future of AI.\n",
      "\n",
      "\n",
      "**V. Conclusion (approx. 100 words)**\n",
      "\n",
      "* Summarize the key takeaways from the article.\n",
      "* Reiterate the importance of understanding AI’s impact on our lives.\n",
      "* Offer a thought-provoking statement about the future of AI.\n",
      "\n",
      "\n",
      "**VI. Call to Action:**\n",
      "\n",
      "* Encourage readers to share their thoughts on the future of AI in the comments section.\n",
      "* Link to relevant resources (articles, research papers, organizations working on AI ethics).\n",
      "\n",
      "\n",
      "**4. SEO Keywords and Relevant Data/Sources:**\n",
      "\n",
      "* **Keywords:** Artificial intelligence, AI, machine learning, deep learning, generative AI, AI ethics, AI regulation, AI in healthcare, AI in finance, AI cybersecurity, OpenAI, Google DeepMind, Microsoft AI, Amazon AI, edge AI, explainable AI, bias in AI.\n",
      "* **Data Sources:** Statista, Gartner, IDC, research papers from reputable academic institutions (e.g., MIT, Stanford, Oxford), reports from organizations like the World Economic Forum and McKinsey.  Specific data points need to be researched and included closer to the publication date.\n",
      "\n",
      "\n",
      "This detailed content plan provides a strong foundation for a comprehensive and engaging blog article on artificial intelligence. Remember to cite all sources appropriately and maintain factual accuracy throughout the article.  The \"News\" section should be updated immediately before publication to incorporate the most current events.\u001b[00m\n",
      "\n",
      "\n",
      "\u001b[1m\u001b[95m# Agent:\u001b[00m \u001b[1m\u001b[92mContent Writer\u001b[00m\n",
      "\u001b[95m## Task:\u001b[00m \u001b[92m1. Use the content plan to craft a compelling blog post on Artificial Intelligence.\n",
      "2. Incorporate SEO keywords naturally.\n",
      "3. Sections/Subtitles are properly named in an engaging manner.\n",
      "4. Ensure the post is structured with an engaging introduction, insightful body, and a summarizing conclusion.\n",
      "5. Proofread for grammatical errors and alignment with the brand's voice.\n",
      "\u001b[00m\n",
      "\n",
      "\n",
      "\u001b[1m\u001b[95m# Agent:\u001b[00m \u001b[1m\u001b[92mContent Writer\u001b[00m\n",
      "\u001b[95m## Final Answer:\u001b[00m \u001b[92m\n",
      "# Decoding the AI Revolution: Trends, Players, and the Future\n",
      "\n",
      "Artificial intelligence (AI) is no longer a futuristic fantasy; it's rapidly weaving itself into the fabric of our daily lives. From the stunning realism of generative AI art to life-saving applications in healthcare, AI's impact is undeniable.  This article will delve into the key trends, influential players, and ethical considerations shaping the future of this transformative technology.  We will explore both the immense potential and the significant challenges that lie ahead.\n",
      "\n",
      "\n",
      "## The AI Landscape: Emerging Trends\n",
      "\n",
      "The AI world is dynamic, with several key trends defining its trajectory. Generative AI, exemplified by tools like DALL-E 2, Midjourney, Stable Diffusion, and ChatGPT, is arguably the most visible. These models can create stunning visuals, write compelling text, and even compose music, pushing the boundaries of creative expression. However,  concerns regarding copyright and the potential for misuse remain significant hurdles.  In my opinion, the responsible development and deployment of generative AI will be crucial to harnessing its power ethically.\n",
      "\n",
      "Beyond generative AI, significant advancements are occurring in specialized fields. AI is revolutionizing healthcare, accelerating drug discovery and improving diagnostic accuracy.  In finance, it's enhancing fraud detection and optimizing algorithmic trading strategies.  Cybersecurity also benefits greatly, with AI-powered systems bolstering threat detection and response capabilities.  The rise of edge AI, processing data closer to the source, promises improved efficiency, reduced latency, and enhanced privacy, particularly in applications involving the Internet of Things (IoT) and autonomous systems.  Finally, the increasing focus on AI ethics and explainability aims to address critical issues of bias and transparency.\n",
      "\n",
      "## The Titans of AI: Key Players and Partnerships\n",
      "\n",
      "The AI landscape is populated by both established tech giants and innovative startups.  OpenAI, with its groundbreaking GPT models, is at the forefront of generative AI. Google DeepMind, a subsidiary of Google, continues to make significant contributions to machine learning and AI research, often pushing the boundaries of what's possible. Microsoft has heavily invested in AI, integrating it into its products and services. Amazon, through AWS, provides crucial cloud infrastructure that underpins much of the AI development globally.  Meta is also a significant player, focusing on AI applications within its social media platforms and virtual reality initiatives.  Nvidia's advanced GPUs are essential for training many of the most powerful AI models.  Finally, numerous smaller startups are emerging, specializing in niche AI applications. This competitive landscape fuels innovation but also raises concerns about potential monopolies.\n",
      "\n",
      "These companies frequently engage in strategic partnerships and acquisitions, fueling rapid progress and shaping the AI landscape in unforeseen ways.  The openness of certain initiatives, like those supported by open-source contributions, is driving innovation further.\n",
      "\n",
      "## Navigating the Future: Opportunities and Challenges\n",
      "\n",
      "AI holds incredible potential to revolutionize various aspects of our lives, boosting productivity, improving healthcare, and automating tedious tasks.  However, significant challenges must be addressed.  The potential for widespread job displacement due to automation is a major concern, requiring proactive strategies for workforce adaptation and reskilling.  Algorithmic bias, inherited from biased data sets, can perpetuate and even amplify societal inequalities, making fairness and transparency in AI development paramount.  Furthermore, the potential for misuse of AI technology, particularly in autonomous weapons systems, raises serious ethical and security considerations.  In my opinion, robust regulations and ethical guidelines are critical to mitigating these risks while harnessing the benefits of AI.\n",
      "\n",
      "\n",
      "## Conclusion: A Responsible AI Future\n",
      "\n",
      "AI's transformative power is undeniable, impacting numerous facets of our lives.  Understanding both the incredible opportunities and the significant challenges associated with this technology is crucial for navigating its future responsibly.  Open dialogue, ethical considerations, and proactive regulatory frameworks are essential to ensuring that AI benefits humanity as a whole.  Let's engage in a thoughtful conversation about how we shape this powerful technology's future.  What are your thoughts on the ethical considerations surrounding AI and its role in shaping our future?\n",
      "\n",
      "\n",
      "**Call to Action:**  Share your thoughts and perspectives in the comments below.  Learn more about AI ethics from resources like the [link to a relevant resource on AI ethics].\u001b[00m\n",
      "\n",
      "\n",
      "\u001b[1m\u001b[95m# Agent:\u001b[00m \u001b[1m\u001b[92mEditor\u001b[00m\n",
      "\u001b[95m## Task:\u001b[00m \u001b[92mProofread the given blog post for grammatical errors and alignment with the brand's voice.\u001b[00m\n",
      "\n",
      "\n",
      "\u001b[1m\u001b[95m# Agent:\u001b[00m \u001b[1m\u001b[92mEditor\u001b[00m\n",
      "\u001b[95m## Final Answer:\u001b[00m \u001b[92m\n",
      "# Decoding the AI Revolution: Trends, Players, and the Future\n",
      "\n",
      "Artificial intelligence (AI) is rapidly transforming our world, impacting everything from healthcare to art.  Its influence is undeniable, prompting both excitement and apprehension about its future implications. This article explores the key trends, major players, and ethical considerations shaping the trajectory of this transformative technology.\n",
      "\n",
      "\n",
      "## The AI Landscape: Emerging Trends\n",
      "\n",
      "The AI field is characterized by rapid innovation. Generative AI, exemplified by tools like DALL-E 2, Midjourney, Stable Diffusion, and ChatGPT, has captured the public imagination with its ability to create realistic images, text, and even music.  However, significant concerns remain regarding copyright issues and the potential for misuse. Responsible development and deployment are critical to mitigating these risks.\n",
      "\n",
      "Beyond generative AI, advancements in specialized AI applications are revolutionizing various sectors.  In healthcare, AI is accelerating drug discovery and improving diagnostic accuracy. Financial institutions utilize AI for fraud detection and algorithmic trading, while cybersecurity benefits from AI-powered threat detection systems. Edge AI, processing data locally, improves efficiency and privacy, especially for IoT devices and autonomous systems. The increasing focus on AI ethics and explainability aims to address concerns about bias and transparency.\n",
      "\n",
      "\n",
      "## The Titans of AI: Key Players and Partnerships\n",
      "\n",
      "The AI landscape is dominated by a mix of established tech giants and innovative startups.  Companies like OpenAI (with its GPT models), Google DeepMind, Microsoft, Amazon (through AWS), Meta, and Nvidia play leading roles, each contributing unique strengths and focusing on different areas of AI development.  Open source initiatives also play a vital role in driving innovation and fostering collaboration.  The competitive nature of this landscape, while fostering innovation, also raises concerns about potential monopolies.\n",
      "\n",
      "Strategic partnerships and acquisitions are common, accelerating progress and shaping the AI ecosystem.  This dynamic interplay between large corporations and smaller, specialized companies creates a constantly evolving landscape.\n",
      "\n",
      "\n",
      "## Navigating the Future: Opportunities and Challenges\n",
      "\n",
      "AI offers immense potential to improve lives, increasing productivity, advancing healthcare, and automating tasks. However, challenges remain.  Widespread job displacement due to automation requires proactive strategies for workforce retraining and adaptation. Algorithmic bias, stemming from biased data, can perpetuate societal inequalities, emphasizing the need for fairness and transparency in AI development.  The potential for misuse of AI, especially in autonomous weapons systems, necessitates careful ethical and security considerations.  Addressing these concerns through robust regulations and ethical guidelines is crucial.\n",
      "\n",
      "\n",
      "## Conclusion: A Responsible AI Future\n",
      "\n",
      "AI's transformative power is reshaping our world.  Responsible development and deployment are crucial to harnessing its benefits while mitigating potential risks. Open dialogue, ethical considerations, and proactive regulatory frameworks are essential to ensuring that AI serves humanity's best interests.  A thoughtful and inclusive approach will be critical to shaping a future where AI benefits everyone.\n",
      "\n",
      "\n",
      "**Call to Action:**  Share your thoughts and perspectives in the comments below.  Learn more about AI ethics from resources like the [link to a relevant resource on AI ethics].\u001b[00m\n",
      "\n",
      "\n"
     ]
    },
    {
     "data": {
      "text/markdown": [
       "# Decoding the AI Revolution: Trends, Players, and the Future\n",
       "\n",
       "Artificial intelligence (AI) is rapidly transforming our world, impacting everything from healthcare to art.  Its influence is undeniable, prompting both excitement and apprehension about its future implications. This article explores the key trends, major players, and ethical considerations shaping the trajectory of this transformative technology.\n",
       "\n",
       "\n",
       "## The AI Landscape: Emerging Trends\n",
       "\n",
       "The AI field is characterized by rapid innovation. Generative AI, exemplified by tools like DALL-E 2, Midjourney, Stable Diffusion, and ChatGPT, has captured the public imagination with its ability to create realistic images, text, and even music.  However, significant concerns remain regarding copyright issues and the potential for misuse. Responsible development and deployment are critical to mitigating these risks.\n",
       "\n",
       "Beyond generative AI, advancements in specialized AI applications are revolutionizing various sectors.  In healthcare, AI is accelerating drug discovery and improving diagnostic accuracy. Financial institutions utilize AI for fraud detection and algorithmic trading, while cybersecurity benefits from AI-powered threat detection systems. Edge AI, processing data locally, improves efficiency and privacy, especially for IoT devices and autonomous systems. The increasing focus on AI ethics and explainability aims to address concerns about bias and transparency.\n",
       "\n",
       "\n",
       "## The Titans of AI: Key Players and Partnerships\n",
       "\n",
       "The AI landscape is dominated by a mix of established tech giants and innovative startups.  Companies like OpenAI (with its GPT models), Google DeepMind, Microsoft, Amazon (through AWS), Meta, and Nvidia play leading roles, each contributing unique strengths and focusing on different areas of AI development.  Open source initiatives also play a vital role in driving innovation and fostering collaboration.  The competitive nature of this landscape, while fostering innovation, also raises concerns about potential monopolies.\n",
       "\n",
       "Strategic partnerships and acquisitions are common, accelerating progress and shaping the AI ecosystem.  This dynamic interplay between large corporations and smaller, specialized companies creates a constantly evolving landscape.\n",
       "\n",
       "\n",
       "## Navigating the Future: Opportunities and Challenges\n",
       "\n",
       "AI offers immense potential to improve lives, increasing productivity, advancing healthcare, and automating tasks. However, challenges remain.  Widespread job displacement due to automation requires proactive strategies for workforce retraining and adaptation. Algorithmic bias, stemming from biased data, can perpetuate societal inequalities, emphasizing the need for fairness and transparency in AI development.  The potential for misuse of AI, especially in autonomous weapons systems, necessitates careful ethical and security considerations.  Addressing these concerns through robust regulations and ethical guidelines is crucial.\n",
       "\n",
       "\n",
       "## Conclusion: A Responsible AI Future\n",
       "\n",
       "AI's transformative power is reshaping our world.  Responsible development and deployment are crucial to harnessing its benefits while mitigating potential risks. Open dialogue, ethical considerations, and proactive regulatory frameworks are essential to ensuring that AI serves humanity's best interests.  A thoughtful and inclusive approach will be critical to shaping a future where AI benefits everyone.\n",
       "\n",
       "\n",
       "**Call to Action:**  Share your thoughts and perspectives in the comments below.  Learn more about AI ethics from resources like the [link to a relevant resource on AI ethics]."
      ],
      "text/plain": [
       "<IPython.core.display.Markdown object>"
      ]
     },
     "execution_count": 12,
     "metadata": {},
     "output_type": "execute_result"
    }
   ],
   "source": [
    "result = crew.kickoff(inputs={\"topic\": \"Artificial Intelligence\"})\n",
    "\n",
    "Markdown(result.raw)"
   ]
  },
  {
   "cell_type": "markdown",
   "id": "263a7ad9-4e60-4ecb-941d-2f4de58a8bff",
   "metadata": {},
   "source": [
    "### Try it yourself\n",
    "\n",
    "Since you already have a crew at this point, switching to another topic is as simiple as just starting a new job with a new topic as input. Try finding some other topics of your interest below."
   ]
  },
  {
   "cell_type": "code",
   "execution_count": null,
   "id": "28fbe5bf-3d0a-424e-8441-eb781cb38b52",
   "metadata": {},
   "outputs": [],
   "source": [
    "topic = \"YOUR TOPIC HERE\"  # @param {type:\"string\"}\n",
    "result = crew.kickoff(inputs={\"topic\": topic})\n",
    "\n",
    "Markdown(result.raw)"
   ]
  },
  {
   "cell_type": "markdown",
   "id": "xYe-vmTUEOfd",
   "metadata": {
    "id": "xYe-vmTUEOfd",
    "jp-MarkdownHeadingCollapsed": true,
    "tags": []
   },
   "source": [
    "# Conclusions\n",
    "\n",
    "You have explored how to create an agent using Gemini and CrewAI."
   ]
  }
 ],
 "metadata": {
  "colab": {
   "name": "iamthuya (22 Nov 2024, 20:27:29)",
   "provenance": [],
   "toc_visible": true
  },
  "environment": {
   "kernel": "conda-base-py",
   "name": "workbench-notebooks.m126",
   "type": "gcloud",
   "uri": "us-docker.pkg.dev/deeplearning-platform-release/gcr.io/workbench-notebooks:m126"
  },
  "kernelspec": {
   "display_name": "Python 3 (ipykernel)",
   "language": "python",
   "name": "conda-base-py"
  },
  "language_info": {
   "codemirror_mode": {
    "name": "ipython",
    "version": 3
   },
   "file_extension": ".py",
   "mimetype": "text/x-python",
   "name": "python",
   "nbconvert_exporter": "python",
   "pygments_lexer": "ipython3",
   "version": "3.10.15"
  }
 },
 "nbformat": 4,
 "nbformat_minor": 5
}
