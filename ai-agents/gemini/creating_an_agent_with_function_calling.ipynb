{
  "cells": [
    {
      "cell_type": "code",
      "id": "EZsNdGXULVe3LnjTQwaZbotH",
      "metadata": {
        "tags": [],
        "id": "EZsNdGXULVe3LnjTQwaZbotH",
        "executionInfo": {
          "status": "ok",
          "timestamp": 1732278554881,
          "user_tz": -480,
          "elapsed": 2510,
          "user": {
            "displayName": "",
            "userId": ""
          }
        }
      },
      "source": [
        "# Copyright 2024 Google LLC\n",
        "#\n",
        "# Licensed under the Apache License, Version 2.0 (the \"License\");\n",
        "# you may not use this file except in compliance with the License.\n",
        "# You may obtain a copy of the License at\n",
        "#\n",
        "#     https://www.apache.org/licenses/LICENSE-2.0\n",
        "#\n",
        "# Unless required by applicable law or agreed to in writing, software\n",
        "# distributed under the License is distributed on an \"AS IS\" BASIS,\n",
        "# WITHOUT WARRANTIES OR CONDITIONS OF ANY KIND, either express or implied.\n",
        "# See the License for the specific language governing permissions and\n",
        "# limitations under the License."
      ],
      "execution_count": 1,
      "outputs": []
    },
    {
      "cell_type": "markdown",
      "source": [
        "# Creating an Agent with Gemini's Function Calling\n",
        "\n",
        "# change the links\n",
        "<table align=\"left\">\n",
        "  <td style=\"text-align: center\">\n",
        "    <a href=\"https://colab.research.google.com/github/iamthuya/google-cloud-workshops/blob/main/ai-agents/gemini/creating_an_agent_with_function_calling.ipynb\">\n",
        "      <img src=\"https://cloud.google.com/ml-engine/images/colab-logo-32px.png\" alt=\"Google Colaboratory logo\"><br> Run in Colab\n",
        "    </a>\n",
        "  </td>\n",
        "  <td style=\"text-align: center\">\n",
        "    <a href=\"https://console.cloud.google.com/vertex-ai/colab/import/https:%2F%2Fraw.githubusercontent.com%2Fiamthuya%2Fgoogle-cloud-workshops%2Fmain%2Fai-agents%2Fgemini%2Fcreating_an_agent_with_function_calling.ipynb\">\n",
        "      <img width=\"32px\" src=\"https://lh3.googleusercontent.com/JmcxdQi-qOpctIvWKgPtrzZdJJK-J3sWE1RsfjZNwshCFgE_9fULcNpuXYTilIR2hjwN\" alt=\"Google Cloud Colab Enterprise logo\"><br> Run in Colab Enterprise\n",
        "    </a>\n",
        "  </td>      \n",
        "  <td style=\"text-align: center\">\n",
        "    <a href=\"https://github.com/iamthuya/google-cloud-workshops/blob/main/ai-agents/gemini/creating_an_agent_with_function_calling.ipynb\">\n",
        "      <img src=\"https://cloud.google.com/ml-engine/images/github-logo-32px.png\" alt=\"GitHub logo\"><br> View on GitHub\n",
        "    </a>\n",
        "  </td>\n",
        "  <td style=\"text-align: center\">\n",
        "    <a href=\"https://console.cloud.google.com/vertex-ai/workbench/deploy-notebook?download_url=https://raw.githubusercontent.com/iamthuya/google-cloud-workshops/blob/main/ai-agents/gemini/creating_an_agent_with_function_calling.ipynb\">\n",
        "      <img src=\"https://lh3.googleusercontent.com/UiNooY4LUgW_oTvpsNhPpQzsstV5W8F7rYgxgGBD85cWJoLmrOzhVs_ksK_vgx40SHs7jCqkTkCk=e14-rj-sc0xffffff-h130-w32\" alt=\"Vertex AI logo\"><br> Open in Vertex AI Workbench\n",
        "    </a>\n",
        "  </td>\n",
        "</table>"
      ],
      "metadata": {
        "id": "ZqLHpMl1MOXg"
      },
      "id": "ZqLHpMl1MOXg"
    },
    {
      "cell_type": "markdown",
      "source": [
        "| | |\n",
        "|-|-|\n",
        "|Author(s) | [Thu Ya Kyaw](https://github.com/iamthuya) |"
      ],
      "metadata": {
        "id": "tcb6_bFE4kr9"
      },
      "id": "tcb6_bFE4kr9"
    },
    {
      "cell_type": "markdown",
      "source": [
        "### Install Vertex AI SDK for Python\n",
        "\n",
        "Here you will install required packages for this lab."
      ],
      "metadata": {
        "id": "DD39LxKq4MsD"
      },
      "id": "DD39LxKq4MsD"
    },
    {
      "cell_type": "code",
      "source": [
        "! pip install --upgrade --quiet --user google-cloud-aiplatform"
      ],
      "metadata": {
        "id": "b4cUyTwE17VJ",
        "executionInfo": {
          "status": "ok",
          "timestamp": 1732295478132,
          "user_tz": -480,
          "elapsed": 5003,
          "user": {
            "displayName": "",
            "userId": ""
          }
        }
      },
      "id": "b4cUyTwE17VJ",
      "execution_count": 1,
      "outputs": []
    },
    {
      "cell_type": "markdown",
      "source": [
        "### Restart current runtime\n",
        "\n",
        "To use the newly installed packages in this Jupyter runtime, you must restart the runtime. You can do this by running the cell below, which will restart the current kernel.\n",
        "\n",
        "Don't worry if you see a notification message like `Your session crashed for an unknown reason.` This is expected as you are shutting down the kernel from the same instance using code.\n"
      ],
      "metadata": {
        "id": "47U_n5Y145JE"
      },
      "id": "47U_n5Y145JE"
    },
    {
      "cell_type": "code",
      "source": [
        "import IPython\n",
        "\n",
        "app = IPython.Application.instance()\n",
        "app.kernel.do_shutdown(True)"
      ],
      "metadata": {
        "colab": {
          "base_uri": "https://localhost:8080/"
        },
        "id": "R2Rzk6mnRh7y",
        "executionInfo": {
          "status": "ok",
          "timestamp": 1732296065005,
          "user_tz": -480,
          "elapsed": 3,
          "user": {
            "displayName": "",
            "userId": ""
          }
        },
        "outputId": "d15061f5-50a1-47dc-cbe1-587fe481b448"
      },
      "id": "R2Rzk6mnRh7y",
      "execution_count": 18,
      "outputs": [
        {
          "output_type": "execute_result",
          "data": {
            "text/plain": [
              "{'status': 'ok', 'restart': True}"
            ]
          },
          "metadata": {},
          "execution_count": 18
        }
      ]
    },
    {
      "cell_type": "markdown",
      "source": [
        "### Initialize Vertex AI SDK\n",
        "\n",
        "To get started using Vertex AI, you must have an existing Google Cloud project and [enable the Vertex AI API](https://console.cloud.google.com/flows/enableapi?apiid=aiplatform.googleapis.com).\n",
        "\n",
        "Learn more about [setting up a project and a development environment](https://cloud.google.com/vertex-ai/docs/start/cloud-environment)."
      ],
      "metadata": {
        "id": "mkwAwoI66TtU"
      },
      "id": "mkwAwoI66TtU"
    },
    {
      "cell_type": "code",
      "source": [
        "import vertexai\n",
        "\n",
        "PROJECT_ID = \"thuya-playground\"  # @param {type:\"string\"}\n",
        "LOCATION = \"us-central1\"  # @param {type:\"string\"}\n",
        "\n",
        "assert PROJECT_ID != \"your-project-id\", \"Please input your project id\"\n",
        "assert LOCATION != \"your-location\", \"Please input your project location\"\n",
        "\n",
        "vertexai.init(project=PROJECT_ID, location=LOCATION)"
      ],
      "metadata": {
        "id": "CaD-TXsbURXz",
        "executionInfo": {
          "status": "ok",
          "timestamp": 1732295527864,
          "user_tz": -480,
          "elapsed": 3,
          "user": {
            "displayName": "",
            "userId": ""
          }
        }
      },
      "id": "CaD-TXsbURXz",
      "execution_count": 5,
      "outputs": []
    },
    {
      "cell_type": "markdown",
      "source": [
        "In the next cell, you will import the required modules from install packages."
      ],
      "metadata": {
        "id": "l52jZ40X6l10"
      },
      "id": "l52jZ40X6l10"
    },
    {
      "cell_type": "code",
      "source": [
        "import requests\n",
        "\n",
        "from vertexai.generative_models import (\n",
        "    GenerativeModel,\n",
        "    FunctionDeclaration,\n",
        "    Tool,\n",
        ")"
      ],
      "metadata": {
        "id": "Lm7C6O5MUduM",
        "executionInfo": {
          "status": "ok",
          "timestamp": 1732295527864,
          "user_tz": -480,
          "elapsed": 2,
          "user": {
            "displayName": "",
            "userId": ""
          }
        }
      },
      "id": "Lm7C6O5MUduM",
      "execution_count": 6,
      "outputs": []
    },
    {
      "cell_type": "markdown",
      "source": [
        "### Creating an Agent with Gemini\n",
        "\n",
        "In the following cell, you will create an agent, start a chat session, and ask about current exchange rate from USD to SGD."
      ],
      "metadata": {
        "id": "152nxTuB82Rx"
      },
      "id": "152nxTuB82Rx"
    },
    {
      "cell_type": "code",
      "source": [
        "# create an agent\n",
        "agent = GenerativeModel(\n",
        "    model_name=\"gemini-1.5-flash\"\n",
        ")\n",
        "\n",
        "# start a chat session\n",
        "chat = agent.start_chat()\n",
        "\n",
        "# ask the agent about exchange rate\n",
        "prompt = \"what's the current exchange rate of USD to SGD?\"\n",
        "response = chat.send_message(prompt)\n",
        "\n",
        "# display the response\n",
        "response.candidates[0].content.parts[0]"
      ],
      "metadata": {
        "id": "fCNtXqxWU7kw",
        "executionInfo": {
          "status": "ok",
          "timestamp": 1732295527864,
          "user_tz": -480,
          "elapsed": 2,
          "user": {
            "displayName": "",
            "userId": ""
          }
        }
      },
      "id": "fCNtXqxWU7kw",
      "execution_count": 7,
      "outputs": []
    },
    {
      "cell_type": "markdown",
      "source": [
        "The model is smart enough to provide alternative ways to get the exchange rate instead of confidently response with a number (hallucination). However, it is generally better to provide the exchange rate right away to the user.\n",
        "\n",
        "This is where function calling feature comes in. With function calling feature, you can create a tool that can retrieve latest exchange rate for the agent. You will do that in the following sections.\n",
        "\n",
        "Firstly, let's create a function that can get the current exchange rate using the API."
      ],
      "metadata": {
        "id": "oSm61mO46nPw"
      },
      "id": "oSm61mO46nPw"
    },
    {
      "cell_type": "code",
      "source": [
        "# define a function to get exchange rate\n",
        "def get_fx_rate(base_currency: str, target_currency: str):\n",
        "    \"\"\"\n",
        "    Fetches the current exchange rate between two currencies.\n",
        "\n",
        "    Args:\n",
        "        base_currency: The base currency (e.g., \"USD\").\n",
        "        target_currency: The target currency (e.g., \"SGD\").\n",
        "\n",
        "    Returns:\n",
        "        The exchange rate information as a json response,\n",
        "        or None if the rate could not be fetched.\n",
        "    \"\"\"\n",
        "\n",
        "    url = f\"https://hexarate.paikama.co/api/rates/latest/{base_currency}?target={target_currency}\"\n",
        "    response = requests.get(url)\n",
        "    if response.status_code == 200:\n",
        "        return response.json()\n",
        "\n",
        "\n",
        "# test the function\n",
        "get_fx_rate(\"USD\", \"SGD\")"
      ],
      "metadata": {
        "colab": {
          "base_uri": "https://localhost:8080/"
        },
        "id": "kN3XxgkaVv42",
        "executionInfo": {
          "status": "ok",
          "timestamp": 1732295540043,
          "user_tz": -480,
          "elapsed": 1068,
          "user": {
            "displayName": "",
            "userId": ""
          }
        },
        "outputId": "c2a7c8de-657c-41ca-ff8b-0e2fcc3bfc6d"
      },
      "id": "kN3XxgkaVv42",
      "execution_count": 9,
      "outputs": [
        {
          "output_type": "execute_result",
          "data": {
            "text/plain": [
              "{'status_code': 200,\n",
              " 'data': {'base': 'USD',\n",
              "  'target': 'SGD',\n",
              "  'mid': 1.34565,\n",
              "  'unit': 1,\n",
              "  'timestamp': '2024-11-22T02:01:34.799Z'}}"
            ]
          },
          "metadata": {},
          "execution_count": 9
        }
      ]
    },
    {
      "cell_type": "markdown",
      "source": [
        "The function is working as intented. However, in order for Gemini's function calling feature to detect that Python function, you will need to create a `FunctionDeclaration` of that Python function. You will do that in the next cell."
      ],
      "metadata": {
        "id": "aqBuyCK--PEJ"
      },
      "id": "aqBuyCK--PEJ"
    },
    {
      "cell_type": "code",
      "source": [
        "# initialize function declaration\n",
        "fd_get_fx_rate = FunctionDeclaration(\n",
        "    name = \"get_fx_rate\",\n",
        "    description = \"Fetches the current exchange rate between two currencies.\",\n",
        "    parameters = {\n",
        "        \"type\" : \"object\",\n",
        "        \"properties\" : {\n",
        "            \"base_currency\": {\n",
        "                \"type\": \"string\",\n",
        "                \"description\": \"The base currency (e.g., 'USD')\"\n",
        "            },\n",
        "            \"target_currency\": {\n",
        "                \"type\": \"string\",\n",
        "                \"description\": \"The target currency (e.g., 'SGD')\"\n",
        "            },\n",
        "        },\n",
        "    }\n",
        ")"
      ],
      "metadata": {
        "id": "OZaNU_SdZWvr",
        "executionInfo": {
          "status": "ok",
          "timestamp": 1732295549669,
          "user_tz": -480,
          "elapsed": 1510,
          "user": {
            "displayName": "",
            "userId": ""
          }
        }
      },
      "id": "OZaNU_SdZWvr",
      "execution_count": 10,
      "outputs": []
    },
    {
      "cell_type": "markdown",
      "source": [
        "Once the declaration is done, you need to create a `Tool` with the declaration so that you can attach it to the agent."
      ],
      "metadata": {
        "id": "HLkJ-2dc-w5K"
      },
      "id": "HLkJ-2dc-w5K"
    },
    {
      "cell_type": "code",
      "source": [
        "# create a tool with the function declaration\n",
        "currency_tool = Tool(\n",
        "    function_declarations=[\n",
        "        fd_get_fx_rate\n",
        "    ]\n",
        ")"
      ],
      "metadata": {
        "id": "_BhGJ6F_ZZcv",
        "executionInfo": {
          "status": "ok",
          "timestamp": 1732295552148,
          "user_tz": -480,
          "elapsed": 1,
          "user": {
            "displayName": "",
            "userId": ""
          }
        }
      },
      "id": "_BhGJ6F_ZZcv",
      "execution_count": 11,
      "outputs": []
    },
    {
      "cell_type": "markdown",
      "source": [
        "Now, you are ready to create an agent with a tool that has access to the function to retrive currency exchange rate."
      ],
      "metadata": {
        "id": "kQaYnDAc_JT7"
      },
      "id": "kQaYnDAc_JT7"
    },
    {
      "cell_type": "code",
      "source": [
        "# create an agent with the currency tool\n",
        "agent = GenerativeModel(\n",
        "    model_name=\"gemini-1.5-flash\",\n",
        "    tools=[currency_tool],\n",
        ")\n",
        "\n",
        "# start a chat session\n",
        "chat = agent.start_chat()\n",
        "\n",
        "# ask the agent about exchange rate\n",
        "response = chat.send_message(prompt)\n",
        "\n",
        "# display the response\n",
        "response.candidates[0].content.parts[0]"
      ],
      "metadata": {
        "id": "8lt5tYCjczca",
        "executionInfo": {
          "status": "ok",
          "timestamp": 1732295557180,
          "user_tz": -480,
          "elapsed": 1,
          "user": {
            "displayName": "",
            "userId": ""
          }
        }
      },
      "id": "8lt5tYCjczca",
      "execution_count": 12,
      "outputs": []
    },
    {
      "cell_type": "markdown",
      "source": [
        "You can see that the response is different from the previous instance. The agent is now returning a function call response instead of a text response.\n",
        "\n",
        "The agent will now wait for you to call the function as stated in the function call response. Only when the agent recieves back a response from that function (stated in the function call), it will answer back to the user.\n",
        "\n",
        "The information from function call response can be assesed directly using `.function_call` attribute."
      ],
      "metadata": {
        "id": "LOWVAJi2_LDy"
      },
      "id": "LOWVAJi2_LDy"
    },
    {
      "cell_type": "code",
      "source": [
        "response.candidates[0].content.parts[0].function_call"
      ],
      "metadata": {
        "colab": {
          "base_uri": "https://localhost:8080/"
        },
        "id": "gjnS1wa_d4Iv",
        "executionInfo": {
          "status": "ok",
          "timestamp": 1732295577117,
          "user_tz": -480,
          "elapsed": 1577,
          "user": {
            "displayName": "",
            "userId": ""
          }
        },
        "outputId": "777e96c5-7f4a-4447-afb5-a7943eee8c60"
      },
      "id": "gjnS1wa_d4Iv",
      "execution_count": 14,
      "outputs": [
        {
          "output_type": "execute_result",
          "data": {
            "text/plain": [
              "name: \"get_fx_rate\"\n",
              "args {\n",
              "  fields {\n",
              "    key: \"target_currency\"\n",
              "    value {\n",
              "      string_value: \"SGD\"\n",
              "    }\n",
              "  }\n",
              "  fields {\n",
              "    key: \"base_currency\"\n",
              "    value {\n",
              "      string_value: \"USD\"\n",
              "    }\n",
              "  }\n",
              "}"
            ]
          },
          "metadata": {},
          "execution_count": 14
        }
      ]
    },
    {
      "cell_type": "markdown",
      "source": [
        "In an ideal scenario, you will be automating the whole process. Here you will try calling the function manually using the information provided from function call response of the agent."
      ],
      "metadata": {
        "id": "77EQhPWWAsKk"
      },
      "id": "77EQhPWWAsKk"
    },
    {
      "cell_type": "code",
      "source": [
        "# assign function name and arguments as provided in the function call response\n",
        "func_name = response.candidates[0].content.parts[0].function_call.name\n",
        "func_args = response.candidates[0].content.parts[0].function_call.args\n",
        "\n",
        "# call the function to get the exchange rate information\n",
        "fx_rate_json = globals()[func_name](**func_args)\n",
        "fx_rate_json"
      ],
      "metadata": {
        "colab": {
          "base_uri": "https://localhost:8080/"
        },
        "id": "EyVJ3rUQdEYA",
        "executionInfo": {
          "status": "ok",
          "timestamp": 1732295628204,
          "user_tz": -480,
          "elapsed": 1518,
          "user": {
            "displayName": "",
            "userId": ""
          }
        },
        "outputId": "8b4037a8-9b07-4a03-8613-73f9c6cb1b6e"
      },
      "id": "EyVJ3rUQdEYA",
      "execution_count": 16,
      "outputs": [
        {
          "output_type": "execute_result",
          "data": {
            "text/plain": [
              "{'status_code': 200,\n",
              " 'data': {'base': 'USD',\n",
              "  'target': 'SGD',\n",
              "  'mid': 1.34565,\n",
              "  'unit': 1,\n",
              "  'timestamp': '2024-11-22T02:01:34.799Z'}}"
            ]
          },
          "metadata": {},
          "execution_count": 16
        }
      ]
    },
    {
      "cell_type": "markdown",
      "source": [
        "Awesome! The function returns a JSON response with exchange rate information. Now, you need to pass that information back to the agent so that it can answer to the user."
      ],
      "metadata": {
        "id": "wUHVjG6xBBTx"
      },
      "id": "wUHVjG6xBBTx"
    },
    {
      "cell_type": "code",
      "source": [
        "# provide function's response to the chat instance\n",
        "response = chat.send_message(\n",
        "    Part.from_function_response(\n",
        "        name=func_name,\n",
        "        response={\n",
        "            \"content\": fx_rate_json,\n",
        "        },\n",
        "    ),\n",
        ")\n",
        "\n",
        "response.text"
      ],
      "metadata": {
        "colab": {
          "base_uri": "https://localhost:8080/",
          "height": 35
        },
        "id": "Xx_crbWTdx3R",
        "executionInfo": {
          "status": "ok",
          "timestamp": 1732295633668,
          "user_tz": -480,
          "elapsed": 1482,
          "user": {
            "displayName": "",
            "userId": ""
          }
        },
        "outputId": "6ebbdd17-1bf4-43fb-b1fa-523f826a6e47"
      },
      "id": "Xx_crbWTdx3R",
      "execution_count": 17,
      "outputs": [
        {
          "output_type": "execute_result",
          "data": {
            "text/plain": [
              "'The current exchange rate for USD to SGD is 1.34565. \\n'"
            ],
            "application/vnd.google.colaboratory.intrinsic+json": {
              "type": "string"
            }
          },
          "metadata": {},
          "execution_count": 17
        }
      ]
    },
    {
      "cell_type": "markdown",
      "source": [
        "# Conclusions\n",
        "\n",
        "You have explored how to create an agent using Gemini's function calling feature through the Vertex AI Python SDK."
      ],
      "metadata": {
        "id": "xYe-vmTUEOfd"
      },
      "id": "xYe-vmTUEOfd"
    },
    {
      "cell_type": "code",
      "source": [],
      "metadata": {
        "id": "aFQomGNTdx1F"
      },
      "id": "aFQomGNTdx1F",
      "execution_count": null,
      "outputs": []
    }
  ],
  "metadata": {
    "kernelspec": {
      "display_name": "Python 3",
      "language": "python",
      "name": "python3"
    },
    "language_info": {
      "codemirror_mode": {
        "name": "ipython",
        "version": 3
      },
      "file_extension": ".py",
      "mimetype": "text/x-python",
      "name": "python",
      "nbconvert_exporter": "python",
      "pygments_lexer": "ipython3",
      "version": "3.10.10"
    },
    "colab": {
      "provenance": [],
      "toc_visible": true,
      "name": "iamthuya (22 Nov 2024, 20:27:29)"
    }
  },
  "nbformat": 4,
  "nbformat_minor": 5
}