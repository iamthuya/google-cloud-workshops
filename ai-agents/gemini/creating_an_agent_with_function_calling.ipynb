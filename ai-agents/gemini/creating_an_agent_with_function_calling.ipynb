{
 "cells": [
  {
   "cell_type": "code",
   "execution_count": null,
   "id": "EZsNdGXULVe3LnjTQwaZbotH",
   "metadata": {
    "executionInfo": {
     "elapsed": 2510,
     "status": "ok",
     "timestamp": 1732278554881,
     "user": {
      "displayName": "",
      "userId": ""
     },
     "user_tz": -480
    },
    "id": "EZsNdGXULVe3LnjTQwaZbotH",
    "tags": []
   },
   "outputs": [],
   "source": [
    "# Copyright 2024 Google LLC\n",
    "#\n",
    "# Licensed under the Apache License, Version 2.0 (the \"License\");\n",
    "# you may not use this file except in compliance with the License.\n",
    "# You may obtain a copy of the License at\n",
    "#\n",
    "#     https://www.apache.org/licenses/LICENSE-2.0\n",
    "#\n",
    "# Unless required by applicable law or agreed to in writing, software\n",
    "# distributed under the License is distributed on an \"AS IS\" BASIS,\n",
    "# WITHOUT WARRANTIES OR CONDITIONS OF ANY KIND, either express or implied.\n",
    "# See the License for the specific language governing permissions and\n",
    "# limitations under the License."
   ]
  },
  {
   "cell_type": "markdown",
   "id": "ZqLHpMl1MOXg",
   "metadata": {
    "id": "ZqLHpMl1MOXg"
   },
   "source": [
    "# Creating an Agent with Gemini's Function Calling\n",
    "\n",
    "<table align=\"left\">\n",
    "  <td style=\"text-align: center\">\n",
    "    <a href=\"https://colab.research.google.com/github/iamthuya/google-cloud-workshops/blob/main/ai-agents/gemini/creating_an_agent_with_function_calling.ipynb\">\n",
    "      <img src=\"https://cloud.google.com/ml-engine/images/colab-logo-32px.png\" alt=\"Google Colaboratory logo\"><br> Run in Colab\n",
    "    </a>\n",
    "  </td>\n",
    "  <td style=\"text-align: center\">\n",
    "    <a href=\"https://console.cloud.google.com/vertex-ai/colab/import/https:%2F%2Fraw.githubusercontent.com%2Fiamthuya%2Fgoogle-cloud-workshops%2Fmain%2Fai-agents%2Fgemini%2Fcreating_an_agent_with_function_calling.ipynb\">\n",
    "      <img width=\"32px\" src=\"https://lh3.googleusercontent.com/JmcxdQi-qOpctIvWKgPtrzZdJJK-J3sWE1RsfjZNwshCFgE_9fULcNpuXYTilIR2hjwN\" alt=\"Google Cloud Colab Enterprise logo\"><br> Run in Colab Enterprise\n",
    "    </a>\n",
    "  </td>      \n",
    "  <td style=\"text-align: center\">\n",
    "    <a href=\"https://github.com/iamthuya/google-cloud-workshops/blob/main/ai-agents/gemini/creating_an_agent_with_function_calling.ipynb\">\n",
    "      <img src=\"https://cloud.google.com/ml-engine/images/github-logo-32px.png\" alt=\"GitHub logo\"><br> View on GitHub\n",
    "    </a>\n",
    "  </td>\n",
    "  <td style=\"text-align: center\">\n",
    "    <a href=\"https://console.cloud.google.com/vertex-ai/workbench/deploy-notebook?download_url=https://raw.githubusercontent.com/iamthuya/google-cloud-workshops/blob/main/ai-agents/gemini/creating_an_agent_with_function_calling.ipynb\">\n",
    "      <img src=\"https://lh3.googleusercontent.com/UiNooY4LUgW_oTvpsNhPpQzsstV5W8F7rYgxgGBD85cWJoLmrOzhVs_ksK_vgx40SHs7jCqkTkCk=e14-rj-sc0xffffff-h130-w32\" alt=\"Vertex AI logo\"><br> Open in Vertex AI Workbench\n",
    "    </a>\n",
    "  </td>\n",
    "</table>"
   ]
  },
  {
   "cell_type": "markdown",
   "id": "tcb6_bFE4kr9",
   "metadata": {
    "id": "tcb6_bFE4kr9"
   },
   "source": [
    "| | |\n",
    "|-|-|\n",
    "|Author(s) | [Thu Ya Kyaw](https://github.com/iamthuya) |"
   ]
  },
  {
   "cell_type": "markdown",
   "id": "DD39LxKq4MsD",
   "metadata": {
    "id": "DD39LxKq4MsD"
   },
   "source": [
    "### Install Vertex AI SDK for Python\n",
    "\n",
    "Here you will install required packages for this lab."
   ]
  },
  {
   "cell_type": "code",
   "execution_count": null,
   "id": "b4cUyTwE17VJ",
   "metadata": {
    "executionInfo": {
     "elapsed": 5003,
     "status": "ok",
     "timestamp": 1732295478132,
     "user": {
      "displayName": "",
      "userId": ""
     },
     "user_tz": -480
    },
    "id": "b4cUyTwE17VJ",
    "tags": []
   },
   "outputs": [],
   "source": [
    "! pip install --upgrade --quiet --user google-cloud-aiplatform"
   ]
  },
  {
   "cell_type": "markdown",
   "id": "47U_n5Y145JE",
   "metadata": {
    "id": "47U_n5Y145JE"
   },
   "source": [
    "### Restart current runtime\n",
    "\n",
    "To use the newly installed packages in this Jupyter runtime, you must restart the runtime. You can do this by running the cell below, which will restart the current kernel.\n",
    "\n",
    "Don't worry if you see a notification message like `Your session crashed for an unknown reason.` This is expected as you are shutting down the kernel from the same instance using code.\n"
   ]
  },
  {
   "cell_type": "code",
   "execution_count": null,
   "id": "R2Rzk6mnRh7y",
   "metadata": {
    "colab": {
     "base_uri": "https://localhost:8080/"
    },
    "executionInfo": {
     "elapsed": 3,
     "status": "ok",
     "timestamp": 1732296065005,
     "user": {
      "displayName": "",
      "userId": ""
     },
     "user_tz": -480
    },
    "id": "R2Rzk6mnRh7y",
    "outputId": "d15061f5-50a1-47dc-cbe1-587fe481b448",
    "tags": []
   },
   "outputs": [],
   "source": [
    "import IPython\n",
    "\n",
    "app = IPython.Application.instance()\n",
    "app.kernel.do_shutdown(True)"
   ]
  },
  {
   "cell_type": "markdown",
   "id": "56a37e59-0baa-4574-8f0b-4d051e28a758",
   "metadata": {},
   "source": [
    "<div class=\"alert alert-block alert-warning\">\n",
    "<b>⚠️ The kernel is going to restart. Please wait until it is finished before continuing to the next step. ⚠️</b>\n",
    "</div>"
   ]
  },
  {
   "cell_type": "markdown",
   "id": "9cf774f7-726c-42f5-8865-eaf57c5187ed",
   "metadata": {},
   "source": [
    "### Authenticate your environment (Google Colab only)\n",
    "\n",
    "If you are running this notebook on Google Colab, uncomment and run the following cell to authenticate your environment. You **don't need to authenticate** if you are using Colab Enterprise."
   ]
  },
  {
   "cell_type": "code",
   "execution_count": null,
   "id": "f65e3331-70be-4c3c-8ef2-d7fe1c568985",
   "metadata": {},
   "outputs": [],
   "source": [
    "# from google.colab import auth\n",
    "\n",
    "# auth.authenticate_user()"
   ]
  },
  {
   "cell_type": "markdown",
   "id": "mkwAwoI66TtU",
   "metadata": {
    "id": "mkwAwoI66TtU"
   },
   "source": [
    "### Initialize Vertex AI SDK\n",
    "\n",
    "To get started using Vertex AI, you must have an existing Google Cloud project and [enable the Vertex AI API](https://console.cloud.google.com/flows/enableapi?apiid=aiplatform.googleapis.com).\n",
    "\n",
    "Learn more about [setting up a project and a development environment](https://cloud.google.com/vertex-ai/docs/start/cloud-environment)."
   ]
  },
  {
   "cell_type": "code",
   "execution_count": 1,
   "id": "CaD-TXsbURXz",
   "metadata": {
    "executionInfo": {
     "elapsed": 3,
     "status": "ok",
     "timestamp": 1732295527864,
     "user": {
      "displayName": "",
      "userId": ""
     },
     "user_tz": -480
    },
    "id": "CaD-TXsbURXz",
    "tags": []
   },
   "outputs": [],
   "source": [
    "import vertexai\n",
    "\n",
    "PROJECT_ID = \"your-project-id\"  # @param {type:\"string\"}\n",
    "LOCATION = \"us-central1\"  # @param {type:\"string\"}\n",
    "\n",
    "assert PROJECT_ID != \"your-project-id\", \"Please input your project id\"\n",
    "assert LOCATION != \"your-location\", \"Please input your project location\"\n",
    "\n",
    "vertexai.init(project=PROJECT_ID, location=LOCATION)"
   ]
  },
  {
   "cell_type": "markdown",
   "id": "l52jZ40X6l10",
   "metadata": {
    "id": "l52jZ40X6l10"
   },
   "source": [
    "In the next cell, you will import the required modules from install packages."
   ]
  },
  {
   "cell_type": "code",
   "execution_count": 2,
   "id": "Lm7C6O5MUduM",
   "metadata": {
    "executionInfo": {
     "elapsed": 2,
     "status": "ok",
     "timestamp": 1732295527864,
     "user": {
      "displayName": "",
      "userId": ""
     },
     "user_tz": -480
    },
    "id": "Lm7C6O5MUduM",
    "tags": []
   },
   "outputs": [],
   "source": [
    "import requests\n",
    "\n",
    "from vertexai.generative_models import (\n",
    "    GenerativeModel,\n",
    "    FunctionDeclaration,\n",
    "    Tool,\n",
    "    Part,\n",
    "\n",
    ")"
   ]
  },
  {
   "cell_type": "markdown",
   "id": "152nxTuB82Rx",
   "metadata": {
    "id": "152nxTuB82Rx"
   },
   "source": [
    "### Creating an Agent with Gemini\n",
    "\n",
    "In the following cell, you will create an agent, start a chat session, and ask about current exchange rate from USD to SGD."
   ]
  },
  {
   "cell_type": "code",
   "execution_count": 3,
   "id": "fCNtXqxWU7kw",
   "metadata": {
    "executionInfo": {
     "elapsed": 2,
     "status": "ok",
     "timestamp": 1732295527864,
     "user": {
      "displayName": "",
      "userId": ""
     },
     "user_tz": -480
    },
    "id": "fCNtXqxWU7kw",
    "tags": []
   },
   "outputs": [
    {
     "data": {
      "text/plain": [
       "text: \"I do not have access to real-time information, including live exchange rates. \\n\\nTo get the most up-to-date USD to SGD exchange rate, I recommend checking a reputable online currency converter like:\\n\\n* **Google Finance:** Just search \\\"USD to SGD\\\" in Google.\\n* **XE.com:** A popular website dedicated to exchange rates.\\n* **Bloomberg:** A financial news platform with real-time data.\\n\\nThese websites will provide you with the current exchange rate, as well as historical data and charts. \\n\""
      ]
     },
     "execution_count": 3,
     "metadata": {},
     "output_type": "execute_result"
    }
   ],
   "source": [
    "# create an agent\n",
    "agent = GenerativeModel(\n",
    "    model_name=\"gemini-1.5-flash\"\n",
    ")\n",
    "\n",
    "# start a chat session\n",
    "chat = agent.start_chat()\n",
    "\n",
    "# ask the agent about exchange rate\n",
    "prompt = \"what's the current exchange rate of USD to SGD?\"\n",
    "response = chat.send_message(prompt)\n",
    "\n",
    "# display the response\n",
    "response.candidates[0].content.parts[0]"
   ]
  },
  {
   "cell_type": "markdown",
   "id": "oSm61mO46nPw",
   "metadata": {
    "id": "oSm61mO46nPw"
   },
   "source": [
    "The model is smart enough to provide alternative ways to get the exchange rate instead of confidently response with a number (hallucination). However, it is generally better to provide the exchange rate right away to the user.\n",
    "\n",
    "This is where function calling feature comes in. With function calling feature, you can create a tool that can retrieve latest exchange rate for the agent. You will do that in the following sections.\n",
    "\n",
    "Firstly, let's create a function that can get the current exchange rate using the API."
   ]
  },
  {
   "cell_type": "code",
   "execution_count": 4,
   "id": "kN3XxgkaVv42",
   "metadata": {
    "colab": {
     "base_uri": "https://localhost:8080/"
    },
    "executionInfo": {
     "elapsed": 1068,
     "status": "ok",
     "timestamp": 1732295540043,
     "user": {
      "displayName": "",
      "userId": ""
     },
     "user_tz": -480
    },
    "id": "kN3XxgkaVv42",
    "outputId": "c2a7c8de-657c-41ca-ff8b-0e2fcc3bfc6d",
    "tags": []
   },
   "outputs": [
    {
     "data": {
      "text/plain": [
       "{'status_code': 200,\n",
       " 'data': {'base': 'USD',\n",
       "  'target': 'SGD',\n",
       "  'mid': 1.34565,\n",
       "  'unit': 1,\n",
       "  'timestamp': '2024-11-22T02:01:34.799Z'}}"
      ]
     },
     "execution_count": 4,
     "metadata": {},
     "output_type": "execute_result"
    }
   ],
   "source": [
    "# define a function to get exchange rate\n",
    "def get_fx_rate(base_currency: str, target_currency: str):\n",
    "    \"\"\"\n",
    "    Fetches the current exchange rate between two currencies.\n",
    "\n",
    "    Args:\n",
    "        base_currency: The base currency (e.g., \"USD\").\n",
    "        target_currency: The target currency (e.g., \"SGD\").\n",
    "\n",
    "    Returns:\n",
    "        The exchange rate information as a json response,\n",
    "        or None if the rate could not be fetched.\n",
    "    \"\"\"\n",
    "\n",
    "    url = f\"https://hexarate.paikama.co/api/rates/latest/{base_currency}?target={target_currency}\"\n",
    "    response = requests.get(url)\n",
    "    if response.status_code == 200:\n",
    "        return response.json()\n",
    "\n",
    "\n",
    "# test the function\n",
    "get_fx_rate(\"USD\", \"SGD\")"
   ]
  },
  {
   "cell_type": "markdown",
   "id": "aqBuyCK--PEJ",
   "metadata": {
    "id": "aqBuyCK--PEJ"
   },
   "source": [
    "The function is working as intented. However, in order for Gemini's function calling feature to detect that Python function, you will need to create a `FunctionDeclaration` of that Python function. You will do that in the next cell."
   ]
  },
  {
   "cell_type": "code",
   "execution_count": 5,
   "id": "OZaNU_SdZWvr",
   "metadata": {
    "executionInfo": {
     "elapsed": 1510,
     "status": "ok",
     "timestamp": 1732295549669,
     "user": {
      "displayName": "",
      "userId": ""
     },
     "user_tz": -480
    },
    "id": "OZaNU_SdZWvr",
    "tags": []
   },
   "outputs": [],
   "source": [
    "# initialize function declaration\n",
    "fd_get_fx_rate = FunctionDeclaration(\n",
    "    name = \"get_fx_rate\",\n",
    "    description = \"Fetches the current exchange rate between two currencies.\",\n",
    "    parameters = {\n",
    "        \"type\" : \"object\",\n",
    "        \"properties\" : {\n",
    "            \"base_currency\": {\n",
    "                \"type\": \"string\",\n",
    "                \"description\": \"The base currency (e.g., 'USD')\"\n",
    "            },\n",
    "            \"target_currency\": {\n",
    "                \"type\": \"string\",\n",
    "                \"description\": \"The target currency (e.g., 'SGD')\"\n",
    "            },\n",
    "        },\n",
    "    }\n",
    ")"
   ]
  },
  {
   "cell_type": "markdown",
   "id": "HLkJ-2dc-w5K",
   "metadata": {
    "id": "HLkJ-2dc-w5K"
   },
   "source": [
    "Once the declaration is done, you need to create a `Tool` with the declaration so that you can attach it to the agent."
   ]
  },
  {
   "cell_type": "code",
   "execution_count": 6,
   "id": "_BhGJ6F_ZZcv",
   "metadata": {
    "executionInfo": {
     "elapsed": 1,
     "status": "ok",
     "timestamp": 1732295552148,
     "user": {
      "displayName": "",
      "userId": ""
     },
     "user_tz": -480
    },
    "id": "_BhGJ6F_ZZcv",
    "tags": []
   },
   "outputs": [],
   "source": [
    "# create a tool with the function declaration\n",
    "currency_tool = Tool(\n",
    "    function_declarations=[\n",
    "        fd_get_fx_rate\n",
    "    ]\n",
    ")"
   ]
  },
  {
   "cell_type": "markdown",
   "id": "kQaYnDAc_JT7",
   "metadata": {
    "id": "kQaYnDAc_JT7"
   },
   "source": [
    "Now, you are ready to create an agent with a tool that has access to the function to retrive currency exchange rate."
   ]
  },
  {
   "cell_type": "code",
   "execution_count": 7,
   "id": "8lt5tYCjczca",
   "metadata": {
    "executionInfo": {
     "elapsed": 1,
     "status": "ok",
     "timestamp": 1732295557180,
     "user": {
      "displayName": "",
      "userId": ""
     },
     "user_tz": -480
    },
    "id": "8lt5tYCjczca",
    "tags": []
   },
   "outputs": [
    {
     "data": {
      "text/plain": [
       "function_call {\n",
       "  name: \"get_fx_rate\"\n",
       "  args {\n",
       "    fields {\n",
       "      key: \"base_currency\"\n",
       "      value {\n",
       "        string_value: \"USD\"\n",
       "      }\n",
       "    }\n",
       "    fields {\n",
       "      key: \"target_currency\"\n",
       "      value {\n",
       "        string_value: \"SGD\"\n",
       "      }\n",
       "    }\n",
       "  }\n",
       "}"
      ]
     },
     "execution_count": 7,
     "metadata": {},
     "output_type": "execute_result"
    }
   ],
   "source": [
    "# create an agent with the currency tool\n",
    "agent = GenerativeModel(\n",
    "    model_name=\"gemini-1.5-flash\",\n",
    "    tools=[currency_tool],\n",
    ")\n",
    "\n",
    "# start a chat session\n",
    "chat = agent.start_chat()\n",
    "\n",
    "# ask the agent about exchange rate\n",
    "response = chat.send_message(prompt)\n",
    "\n",
    "# display the response\n",
    "response.candidates[0].content.parts[0]"
   ]
  },
  {
   "cell_type": "markdown",
   "id": "LOWVAJi2_LDy",
   "metadata": {
    "id": "LOWVAJi2_LDy"
   },
   "source": [
    "You can see that the response is different from the previous instance. The agent is now returning a function call response instead of a text response.\n",
    "\n",
    "The agent will now wait for you to call the function as stated in the function call response. Only when the agent recieves back a response from that function (stated in the function call), it will answer back to the user.\n",
    "\n",
    "The information from function call response can be assesed directly using `.function_call` attribute."
   ]
  },
  {
   "cell_type": "code",
   "execution_count": 8,
   "id": "gjnS1wa_d4Iv",
   "metadata": {
    "colab": {
     "base_uri": "https://localhost:8080/"
    },
    "executionInfo": {
     "elapsed": 1577,
     "status": "ok",
     "timestamp": 1732295577117,
     "user": {
      "displayName": "",
      "userId": ""
     },
     "user_tz": -480
    },
    "id": "gjnS1wa_d4Iv",
    "outputId": "777e96c5-7f4a-4447-afb5-a7943eee8c60",
    "tags": []
   },
   "outputs": [
    {
     "data": {
      "text/plain": [
       "name: \"get_fx_rate\"\n",
       "args {\n",
       "  fields {\n",
       "    key: \"base_currency\"\n",
       "    value {\n",
       "      string_value: \"USD\"\n",
       "    }\n",
       "  }\n",
       "  fields {\n",
       "    key: \"target_currency\"\n",
       "    value {\n",
       "      string_value: \"SGD\"\n",
       "    }\n",
       "  }\n",
       "}"
      ]
     },
     "execution_count": 8,
     "metadata": {},
     "output_type": "execute_result"
    }
   ],
   "source": [
    "response.candidates[0].content.parts[0].function_call"
   ]
  },
  {
   "cell_type": "markdown",
   "id": "77EQhPWWAsKk",
   "metadata": {
    "id": "77EQhPWWAsKk"
   },
   "source": [
    "In an ideal scenario, you will be automating the whole process. Here you will try calling the function manually using the information provided from function call response of the agent."
   ]
  },
  {
   "cell_type": "code",
   "execution_count": 9,
   "id": "EyVJ3rUQdEYA",
   "metadata": {
    "colab": {
     "base_uri": "https://localhost:8080/"
    },
    "executionInfo": {
     "elapsed": 1518,
     "status": "ok",
     "timestamp": 1732295628204,
     "user": {
      "displayName": "",
      "userId": ""
     },
     "user_tz": -480
    },
    "id": "EyVJ3rUQdEYA",
    "outputId": "8b4037a8-9b07-4a03-8613-73f9c6cb1b6e",
    "tags": []
   },
   "outputs": [
    {
     "data": {
      "text/plain": [
       "{'status_code': 200,\n",
       " 'data': {'base': 'USD',\n",
       "  'target': 'SGD',\n",
       "  'mid': 1.34565,\n",
       "  'unit': 1,\n",
       "  'timestamp': '2024-11-22T02:01:34.799Z'}}"
      ]
     },
     "execution_count": 9,
     "metadata": {},
     "output_type": "execute_result"
    }
   ],
   "source": [
    "# assign function name and arguments as provided in the function call response\n",
    "func_name = response.candidates[0].content.parts[0].function_call.name\n",
    "func_args = response.candidates[0].content.parts[0].function_call.args\n",
    "\n",
    "# call the function to get the exchange rate information\n",
    "fx_rate_json = globals()[func_name](**func_args)\n",
    "fx_rate_json"
   ]
  },
  {
   "cell_type": "markdown",
   "id": "wUHVjG6xBBTx",
   "metadata": {
    "id": "wUHVjG6xBBTx"
   },
   "source": [
    "Awesome! The function returns a JSON response with exchange rate information. Now, you need to pass that information back to the agent so that it can answer to the user."
   ]
  },
  {
   "cell_type": "code",
   "execution_count": 10,
   "id": "Xx_crbWTdx3R",
   "metadata": {
    "colab": {
     "base_uri": "https://localhost:8080/",
     "height": 35
    },
    "executionInfo": {
     "elapsed": 1482,
     "status": "ok",
     "timestamp": 1732295633668,
     "user": {
      "displayName": "",
      "userId": ""
     },
     "user_tz": -480
    },
    "id": "Xx_crbWTdx3R",
    "outputId": "6ebbdd17-1bf4-43fb-b1fa-523f826a6e47",
    "tags": []
   },
   "outputs": [
    {
     "data": {
      "text/plain": [
       "'The current exchange rate for USD to SGD is 1.34565. \\n'"
      ]
     },
     "execution_count": 10,
     "metadata": {},
     "output_type": "execute_result"
    }
   ],
   "source": [
    "# provide function's response to the chat instance\n",
    "response = chat.send_message(\n",
    "    Part.from_function_response(\n",
    "        name=func_name,\n",
    "        response={\n",
    "            \"content\": fx_rate_json,\n",
    "        },\n",
    "    ),\n",
    ")\n",
    "\n",
    "response.text"
   ]
  },
  {
   "cell_type": "markdown",
   "id": "xYe-vmTUEOfd",
   "metadata": {
    "id": "xYe-vmTUEOfd"
   },
   "source": [
    "# Conclusions\n",
    "\n",
    "You have explored how to create an agent using Gemini's function calling feature through the Vertex AI Python SDK."
   ]
  }
 ],
 "metadata": {
  "colab": {
   "name": "iamthuya (22 Nov 2024, 20:27:29)",
   "provenance": [],
   "toc_visible": true
  },
  "environment": {
   "kernel": "conda-base-py",
   "name": "workbench-notebooks.m126",
   "type": "gcloud",
   "uri": "us-docker.pkg.dev/deeplearning-platform-release/gcr.io/workbench-notebooks:m126"
  },
  "kernelspec": {
   "display_name": "Python 3 (ipykernel)",
   "language": "python",
   "name": "conda-base-py"
  },
  "language_info": {
   "codemirror_mode": {
    "name": "ipython",
    "version": 3
   },
   "file_extension": ".py",
   "mimetype": "text/x-python",
   "name": "python",
   "nbconvert_exporter": "python",
   "pygments_lexer": "ipython3",
   "version": "3.10.15"
  }
 },
 "nbformat": 4,
 "nbformat_minor": 5
}
