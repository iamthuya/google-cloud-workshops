{
  "cells": [
    {
      "cell_type": "code",
      "execution_count": null,
      "id": "HaHXnQL0xHCM",
      "metadata": {
        "id": "HaHXnQL0xHCM"
      },
      "outputs": [],
      "source": [
        "# Copyright 2025 Google LLC\n",
        "#\n",
        "# Licensed under the Apache License, Version 2.0 (the \"License\");\n",
        "# you may not use this file except in compliance with the License.\n",
        "# You may obtain a copy of the License at\n",
        "#\n",
        "#     https://www.apache.org/licenses/LICENSE-2.0\n",
        "#\n",
        "# Unless required by applicable law or agreed to in writing, software\n",
        "# distributed under the License is distributed on an \"AS IS\" BASIS,\n",
        "# WITHOUT WARRANTIES OR CONDITIONS OF ANY KIND, either express or implied.\n",
        "# See the License for the specific language governing permissions and\n",
        "# limitations under the License."
      ]
    },
    {
      "cell_type": "markdown",
      "id": "Ajm6wjQUxKSa",
      "metadata": {
        "id": "Ajm6wjQUxKSa"
      },
      "source": [
        "<table align=\"left\">\n",
        "  <td style=\"text-align: center\">\n",
        "    <a href=\"https://colab.research.google.com/github/iamthuya/google-cloud-workshops/blob/main/ai-agents/gemini-2-0/building_an_agentic_stock_analysis_system.ipynb\">\n",
        "      <img width=\"32px\" src=\"https://www.gstatic.com/pantheon/images/bigquery/welcome_page/colab-logo.svg\" alt=\"Google Colaboratory logo\"><br> Open in Colab\n",
        "    </a>\n",
        "  </td>\n",
        "  <td style=\"text-align: center\">\n",
        "    <a href=\"https://console.cloud.google.com/vertex-ai/colab/import/https:%2F%2Fraw.githubusercontent.com%2Fiamthuya%2Fgoogle-cloud-workshops%2Fmain%2Fai-agents%2Fgemini-2-0%2Fbuilding_an_agentic_stock_analysis_system.ipynb\">\n",
        "      <img width=\"32px\" src=\"https://lh3.googleusercontent.com/JmcxdQi-qOpctIvWKgPtrzZdJJK-J3sWE1RsfjZNwshCFgE_9fULcNpuXYTilIR2hjwN\" alt=\"Google Cloud Colab Enterprise logo\"><br> Open in Colab Enterprise\n",
        "    </a>\n",
        "  </td>\n",
        "  <td style=\"text-align: center\">\n",
        "    <a href=\"https://console.cloud.google.com/vertex-ai/workbench/deploy-notebook?download_url=https://raw.githubusercontent.com/iamthuya/google-cloud-workshops/blob/main/ai-agents/gemini-2-0/building_an_agentic_stock_analysis_system.ipynb\">\n",
        "      <img src=\"https://www.gstatic.com/images/branding/gcpiconscolors/vertexai/v1/32px.svg\" alt=\"Vertex AI logo\"><br> Open in Vertex AI Workbench\n",
        "    </a>\n",
        "  </td>\n",
        "  <td style=\"text-align: center\">\n",
        "    <a href=\"https://github.com/iamthuya/google-cloud-workshops/blob/main/ai-agents/gemini-2-0/building_an_agentic_stock_analysis_system.ipynb\">\n",
        "      <img width=\"32px\" src=\"https://www.svgrepo.com/download/217753/github.svg\" alt=\"GitHub logo\"><br> View on GitHub\n",
        "    </a>\n",
        "  </td>\n",
        "  \n",
        "</table>"
      ]
    },
    {
      "cell_type": "markdown",
      "id": "YrgHHGhGyEtE",
      "metadata": {
        "id": "YrgHHGhGyEtE"
      },
      "source": [
        "# Prepare Environment"
      ]
    },
    {
      "cell_type": "markdown",
      "id": "2rqU27EHx8Uj",
      "metadata": {
        "id": "2rqU27EHx8Uj"
      },
      "source": [
        "## Install required packages"
      ]
    },
    {
      "cell_type": "code",
      "execution_count": null,
      "id": "Y0OZXSv6ZP1DCs9WAhn5iYFX",
      "metadata": {
        "id": "Y0OZXSv6ZP1DCs9WAhn5iYFX",
        "tags": []
      },
      "outputs": [],
      "source": [
        "%pip install --upgrade --quiet --user google-genai"
      ]
    },
    {
      "cell_type": "markdown",
      "id": "pDWTQqu70seq",
      "metadata": {
        "id": "pDWTQqu70seq"
      },
      "source": [
        "## Import necessary libraries\n",
        "\n",
        "Run the cell below to import all Python libraries that will be used in this lab."
      ]
    },
    {
      "cell_type": "code",
      "execution_count": null,
      "id": "fzmIyd8u0sMR",
      "metadata": {
        "id": "fzmIyd8u0sMR"
      },
      "outputs": [],
      "source": [
        "import os\n",
        "import requests\n",
        "\n",
        "from google import genai\n",
        "from google.genai.types import (\n",
        "    GenerateContentConfig,\n",
        "    GoogleSearch,\n",
        "    Tool,\n",
        ")\n",
        "\n",
        "from IPython.display import Markdown, display"
      ]
    },
    {
      "cell_type": "markdown",
      "id": "56gJ5pP72NsZ",
      "metadata": {
        "id": "56gJ5pP72NsZ"
      },
      "source": [
        "## Authenticate your notebook environment (Colab only)\n",
        "\n",
        "If you are running this notebook on Google Colab, run the cell below to authenticate your environment."
      ]
    },
    {
      "cell_type": "code",
      "execution_count": null,
      "id": "_kWPxFrW2NeO",
      "metadata": {
        "colab": {
          "base_uri": "https://localhost:8080/"
        },
        "id": "_kWPxFrW2NeO",
        "outputId": "6b26c0f6-54ff-4696-b0bb-2b6aacdd48b5"
      },
      "outputs": [],
      "source": [
        "import sys\n",
        "\n",
        "if \"google.colab\" in sys.modules:\n",
        "    from google.colab import auth\n",
        "\n",
        "    auth.authenticate_user()"
      ]
    },
    {
      "cell_type": "markdown",
      "id": "jdOLv0nvw6tl",
      "metadata": {
        "id": "jdOLv0nvw6tl"
      },
      "source": [
        "## Initialize Google GenAI Client\n",
        "\n",
        "Use the new Google GenAI SDK to establish a client connection to the Gemini API."
      ]
    },
    {
      "cell_type": "code",
      "execution_count": null,
      "id": "Gxzg4AR-w5_6",
      "metadata": {
        "id": "Gxzg4AR-w5_6"
      },
      "outputs": [],
      "source": [
        "if \"google.colab\" in sys.modules:\n",
        "    PROJECT_ID = \"\"  # @param {type:\"string\", placeholder: \"replace-with-your-project-id\", isTemplate: true}\n",
        "    assert PROJECT_ID != \"replace-with-your-project-id\", \"Please input your project id\"\n",
        "else:\n",
        "    PROJECT_ID = str(os.environ['GOOGLE_CLOUD_PROJECT'])\n",
        "\n",
        "LOCATION = os.environ.get('GOOGLE_CLOUD_REGION', 'us-central1')\n",
        "\n",
        "client = genai.Client(\n",
        "    vertexai=True,\n",
        "    project=PROJECT_ID,\n",
        "    location=LOCATION,\n",
        ")"
      ]
    },
    {
      "cell_type": "markdown",
      "id": "IZdYDKMNzaeH",
      "metadata": {
        "id": "IZdYDKMNzaeH"
      },
      "source": [
        "## Test Google GenAI Client\n",
        "\n",
        "Test the client's connection to the Gemini API by asking a question."
      ]
    },
    {
      "cell_type": "code",
      "execution_count": null,
      "id": "vrI4KLfnzbR7",
      "metadata": {
        "colab": {
          "base_uri": "https://localhost:8080/",
          "height": 46
        },
        "id": "vrI4KLfnzbR7",
        "outputId": "0a6a940b-73b7-431e-da2b-bc1e7a6f5c58"
      },
      "outputs": [],
      "source": [
        "model = \"gemini-2.0-flash-001\"\n",
        "\n",
        "response = client.models.generate_content(\n",
        "    model=model,\n",
        "    contents=\"What's the thrid planet from the sun in our solar system?\"\n",
        ")\n",
        "\n",
        "display(Markdown(response.text))"
      ]
    },
    {
      "cell_type": "markdown",
      "id": "iwDERvxuwDIk",
      "metadata": {
        "id": "iwDERvxuwDIk"
      },
      "source": [
        "# Function Calling Recap\n",
        "\n",
        "To refresh your understanding of function calling, explore Gemini 2.0's enhanced Automatic Function Calling feature through a practical exercise in this section."
      ]
    },
    {
      "cell_type": "markdown",
      "id": "IBKG-TVy4v1j",
      "metadata": {
        "id": "IBKG-TVy4v1j"
      },
      "source": [
        "Ask Gemini about real-time data like currency exchange rate."
      ]
    },
    {
      "cell_type": "code",
      "execution_count": null,
      "id": "a9kpbUWYv8vS",
      "metadata": {
        "colab": {
          "base_uri": "https://localhost:8080/",
          "height": 145
        },
        "id": "a9kpbUWYv8vS",
        "outputId": "0bf36f1f-3739-414d-8e84-9b4f9e955c65"
      },
      "outputs": [],
      "source": [
        "response = client.models.generate_content(\n",
        "    model=model,\n",
        "    contents=\"What's exchange rate from USD to SGD today?\",\n",
        ")\n",
        "\n",
        "display(Markdown(response.text))"
      ]
    },
    {
      "cell_type": "markdown",
      "id": "CDbFR2Ei48v8",
      "metadata": {
        "id": "CDbFR2Ei48v8"
      },
      "source": [
        "As you observed above, instead of answering an outdated value, Gemini recommended to check online sources to get an answer.\n",
        "\n",
        "To make Gemini answers real-time currency exchange rates, we can use Gemini's function calling feature to execute a Python function that queries an external API."
      ]
    },
    {
      "cell_type": "code",
      "execution_count": null,
      "id": "wvfDu1yG1z8i",
      "metadata": {
        "colab": {
          "base_uri": "https://localhost:8080/"
        },
        "id": "wvfDu1yG1z8i",
        "outputId": "11785e21-d4a2-4505-c428-53ceec472ed2"
      },
      "outputs": [],
      "source": [
        "# A function to get exchange rate\n",
        "def get_fx_rate(base_currency: str, target_currency: str):\n",
        "    \"\"\"\n",
        "    Fetches the current exchange rate between two currencies.\n",
        "\n",
        "    Args:\n",
        "        base_currency: The base currency (e.g., 'USD').\n",
        "        target_currency: The target currency (e.g., 'SGD').\n",
        "\n",
        "    Returns:\n",
        "        The exchange rate information as a json response,\n",
        "        or None if the rate could not be fetched.\n",
        "    \"\"\"\n",
        "\n",
        "    url = f\"https://hexarate.paikama.co/api/rates/latest/{base_currency}?target={target_currency}\"\n",
        "    response = requests.get(url)\n",
        "    if response.status_code == 200:\n",
        "        return response.json()\n",
        "\n",
        "# Test the function\n",
        "get_fx_rate('USD', 'SGD')"
      ]
    },
    {
      "cell_type": "markdown",
      "id": "FuW69tqM7tr0",
      "metadata": {
        "id": "FuW69tqM7tr0"
      },
      "source": [
        "Here is how to make this function accessible to Gemini, allowing it to function as a tool for currency exchange rate extraction."
      ]
    },
    {
      "cell_type": "code",
      "execution_count": null,
      "id": "f079mmkM7QJb",
      "metadata": {
        "colab": {
          "base_uri": "https://localhost:8080/",
          "height": 46
        },
        "id": "f079mmkM7QJb",
        "outputId": "f7af7130-c5cd-4c84-ef42-204ee6fffce9"
      },
      "outputs": [],
      "source": [
        "response = client.models.generate_content(\n",
        "    model=model,\n",
        "    contents=\"What's exchange rate from USD to SGD today?\",\n",
        "    config=GenerateContentConfig(\n",
        "        tools=[get_fx_rate],\n",
        "    ),\n",
        ")\n",
        "\n",
        "display(Markdown(response.text))"
      ]
    },
    {
      "cell_type": "markdown",
      "id": "8qdJsiEB9y-X",
      "metadata": {
        "id": "8qdJsiEB9y-X"
      },
      "source": [
        "Now Gemini can answer the exchange rate using the provided tool aka the `get_fx_rate()` function. That's the power of function calling feature."
      ]
    },
    {
      "cell_type": "markdown",
      "id": "KJZPHTmx83mx",
      "metadata": {
        "id": "KJZPHTmx83mx"
      },
      "source": [
        "# Agentic Stock Analysis System\n",
        "\n",
        "Agentic Stock Analysis System is a system that automates in-depth market research and stock evaluation, delivering actionable insights with minimal user input.\n",
        "\n",
        "This system consists of a set of specialized agents: Planner, Researcher, Reporter, and Editor. Together those agents will create a comprehensive report about a requested stock. The Researcher agent leverages Google Search capabilities to gather relevant and up-to-date facts, ensuring thorough analysis.\n",
        "\n",
        "You will be building the agent individually using Gemini API from sketch.\n"
      ]
    },
    {
      "cell_type": "code",
      "execution_count": null,
      "id": "Ucu_GDUnOBS1",
      "metadata": {
        "id": "Ucu_GDUnOBS1"
      },
      "outputs": [],
      "source": [
        "stock_ticker = \"GOOG\""
      ]
    },
    {
      "cell_type": "markdown",
      "id": "PQaVMSOFlEkQ",
      "metadata": {
        "id": "PQaVMSOFlEkQ"
      },
      "source": [
        "> \"If you fail to plan, you are planning to fail\" ~ Benjamin Franklin\n",
        "\n",
        "As the quote said, the first thing an agentic system should do is to plan necessary tasks to complete the request."
      ]
    },
    {
      "cell_type": "code",
      "execution_count": null,
      "id": "wlKcQ_PjF37G",
      "metadata": {
        "colab": {
          "base_uri": "https://localhost:8080/",
          "height": 271
        },
        "id": "wlKcQ_PjF37G",
        "outputId": "d4c4e812-71e7-4ff4-b2d9-13827cf84887"
      },
      "outputs": [],
      "source": [
        "# 1. Planner Agent\n",
        "\n",
        "planner_model = \"gemini-2.0-flash-lite-001\"\n",
        "\n",
        "planner_prompt = f\"Stock Ticker: {stock_ticker}\"\n",
        "\n",
        "planner_system_instruction = \"\"\"\n",
        "    You are a tasks planning agent for a stock anlaysis system.\n",
        "    Your role is to take a stock code as input and break it down into a sequence of specific, important topics for a comprehensive stock analysis.\n",
        "    You must provide the tasks in a numbered list. Consider the need for data retrieval, analysis, and reporting.\n",
        "    Include tasks for historical price analysis, financial statement analysis, news sentiment analysis, competitor analysis, and risk assessment.\n",
        "    Do not carry out the tasks yourself. Only list the tasks. Do not add any introductory text.\n",
        "\"\"\"\n",
        "\n",
        "planner_response = client.models.generate_content(\n",
        "    model=planner_model,\n",
        "    contents=planner_prompt,\n",
        "    config=GenerateContentConfig(\n",
        "        system_instruction=planner_system_instruction,\n",
        "    ),\n",
        ")\n",
        "\n",
        "display(Markdown(planner_response.text))"
      ]
    },
    {
      "cell_type": "markdown",
      "id": "X6G7cOqMeqnW",
      "metadata": {
        "id": "X6G7cOqMeqnW"
      },
      "source": [
        "Now we have a list of topics to research and task to carry out. Let's create an agent that uses Google Search to gather information about them and provide a simple write up."
      ]
    },
    {
      "cell_type": "code",
      "execution_count": null,
      "id": "0TDrmiPHIvUS",
      "metadata": {
        "colab": {
          "base_uri": "https://localhost:8080/",
          "height": 1000
        },
        "id": "0TDrmiPHIvUS",
        "outputId": "30105d66-15f3-4177-d726-73d0f718f065"
      },
      "outputs": [],
      "source": [
        "# 2. Research Agent\n",
        "\n",
        "researcher_model = \"gemini-2.0-flash-001\"\n",
        "\n",
        "researcher_prompt = f\"Topics: {planner_response.text}\"\n",
        "\n",
        "researcher_system_instruction = \"\"\"\n",
        "    You are a research agent for a stock anlaysis system.\n",
        "    Your purpose is to use Google Search to find relevant information for all the topics provided.\n",
        "    Find as many information as you can.\n",
        "\"\"\"\n",
        "\n",
        "google_search_tool = Tool(google_search=GoogleSearch())\n",
        "\n",
        "researcher_response = client.models.generate_content(\n",
        "    model=researcher_model,\n",
        "    contents=researcher_prompt,\n",
        "    config=GenerateContentConfig(\n",
        "        system_instruction=researcher_system_instruction,\n",
        "        tools=[google_search_tool],\n",
        "    ),\n",
        ")\n",
        "\n",
        "display(Markdown(researcher_response.text))\n"
      ]
    },
    {
      "cell_type": "markdown",
      "id": "HT3KmrAPfGC6",
      "metadata": {
        "id": "HT3KmrAPfGC6"
      },
      "source": [
        "Although we have the necesary information from the internet, it would be great to have a proper and comprehensive report. Let's create another agent that can do that."
      ]
    },
    {
      "cell_type": "code",
      "execution_count": null,
      "id": "pCAOS-YMUG9O",
      "metadata": {
        "colab": {
          "base_uri": "https://localhost:8080/",
          "height": 1000
        },
        "id": "pCAOS-YMUG9O",
        "outputId": "e25a6300-fe21-4b1f-f0d6-6f0785335e88"
      },
      "outputs": [],
      "source": [
        "# 3. Writer Agent\n",
        "\n",
        "writer_model = \"gemini-2.0-flash-thinking-exp-01-21\"\n",
        "\n",
        "writer_prompt = f\"Research: {researcher_response.text}\"\n",
        "\n",
        "writer_system_instruction = \"\"\"\n",
        "    You are a writer agent for a stock anlaysis system.\n",
        "    Your purpose is to only use the information provided and write a comprehensive report.\n",
        "    Make sure to expend on all the topics from the provided information.\n",
        "\"\"\"\n",
        "\n",
        "writer_response = client.models.generate_content(\n",
        "    model=writer_model,\n",
        "    contents=writer_prompt,\n",
        "    config=GenerateContentConfig(\n",
        "        system_instruction=writer_system_instruction,\n",
        "    ),\n",
        ")\n",
        "\n",
        "display(Markdown(writer_response.text))"
      ]
    },
    {
      "cell_type": "markdown",
      "id": "zUGjkfUQmPYV",
      "metadata": {
        "id": "zUGjkfUQmPYV"
      },
      "source": [
        "The output is already pretty good. However, some sentences are quite a mouthful to read. Let's create another agent that can edit the report in a way that is easier to read. We will also ask the agent to fact check it with google search tool while it edits."
      ]
    },
    {
      "cell_type": "code",
      "execution_count": null,
      "id": "cnEzKIhkYyUu",
      "metadata": {
        "colab": {
          "base_uri": "https://localhost:8080/",
          "height": 1000
        },
        "id": "cnEzKIhkYyUu",
        "outputId": "14318d95-e498-4670-c7d3-757ec0bafa28"
      },
      "outputs": [],
      "source": [
        "# 4. Editor Agent\n",
        "\n",
        "editor_model = \"gemini-2.0-flash-001\"\n",
        "\n",
        "editor_prompt = f\"Report: {writer_response.text}\"\n",
        "\n",
        "editor_system_instruction = \"\"\"\n",
        "    You are an editor agent for a stock anlaysis system.\n",
        "    Your purpose is to correct the grammer, sentence structure, and making the report easier to read.\n",
        "    Do not add any addtional information. Make sure to keep all the information from the provided information.\n",
        "    You can use Google Search to fact check all provided information and correct as necessary.\n",
        "    Also provide what you corrected (if any) at the end of the revised report.\n",
        "\"\"\"\n",
        "\n",
        "editor_response = client.models.generate_content(\n",
        "    model=editor_model,\n",
        "    contents=editor_prompt,\n",
        "    config=GenerateContentConfig(\n",
        "        system_instruction=editor_system_instruction,\n",
        "        tools=[google_search_tool],\n",
        "    ),\n",
        ")\n",
        "\n",
        "display(Markdown(editor_response.text))"
      ]
    },
    {
      "cell_type": "markdown",
      "id": "CX5fmMRZfTLm",
      "metadata": {
        "id": "CX5fmMRZfTLm"
      },
      "source": [
        "Congratulations! You've successfully completed the lab. Now, feel free to explore further by changing the stock ticker and analyzing other stocks. You can also consider expending this by adding more agents, e.g. Vistualizer Agent that can plot charts and graph."
      ]
    },
    {
      "cell_type": "code",
      "execution_count": null,
      "id": "i0Vrxko1iYnb",
      "metadata": {
        "id": "i0Vrxko1iYnb"
      },
      "outputs": [],
      "source": []
    }
  ],
  "metadata": {
    "colab": {
      "name": "contact.thuya (Mar 22, 2025, 1:15:20 AM)",
      "provenance": [],
      "toc_visible": true
    },
    "kernelspec": {
      "display_name": "Python 3",
      "language": "python",
      "name": "python3"
    },
    "language_info": {
      "codemirror_mode": {
        "name": "ipython",
        "version": 3
      },
      "file_extension": ".py",
      "mimetype": "text/x-python",
      "name": "python",
      "nbconvert_exporter": "python",
      "pygments_lexer": "ipython3",
      "version": "3.10.10"
    }
  },
  "nbformat": 4,
  "nbformat_minor": 5
}
